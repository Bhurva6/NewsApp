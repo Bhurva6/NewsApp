{
 "cells": [
  {
   "cell_type": "code",
   "execution_count": 4,
   "metadata": {},
   "outputs": [
    {
     "name": "stdout",
     "output_type": "stream",
     "text": [
      "Requirement already satisfied: pymupdf in c:\\users\\bhurv\\anaconda3\\lib\\site-packages (1.18.9)\n"
     ]
    }
   ],
   "source": [
    "import os\n",
    "import numpy as np\n",
    "import pandas as pd\n",
    "!pip install pymupdf\n",
    "import sys, fitz\n",
    "import re\n",
    "import string"
   ]
  },
  {
   "cell_type": "code",
   "execution_count": 5,
   "metadata": {},
   "outputs": [],
   "source": [
    "# Create dictionary with industrial and system engineering key terms by area\n",
    "terms = {'Quality/Six Sigma':['black belt','capability analysis','control charts','doe','dmaic','fishbone',\n",
    "                              'gage r&r', 'green belt','ishikawa','iso','kaizen','kpi','lean','metrics',\n",
    "                              'pdsa','performance improvement','process improvement','quality',\n",
    "                              'quality circles','quality tools','root cause','six sigma',\n",
    "                              'stability analysis','statistical analysis','tqm'],      \n",
    "        'Operations management':['automation','bottleneck','constraints','cycle time','efficiency','fmea',\n",
    "                                 'machinery','maintenance','manufacture','line balancing','oee','operations',\n",
    "                                 'operations research','optimization','overall equipment effectiveness',\n",
    "                                 'pfmea','process','process mapping','production','resources','safety',\n",
    "                                 'stoppage','value stream mapping','utilization'],\n",
    "        'Supply chain':['abc analysis','apics','customer','customs','delivery','distribution','eoq','epq',\n",
    "                        'fleet','forecast','inventory','logistic','materials','outsourcing','procurement',\n",
    "                        'reorder point','rout','safety stock','scheduling','shipping','stock','suppliers',\n",
    "                        'third party logistics','transport','transportation','traffic','supply chain',\n",
    "                        'vendor','warehouse','wip','work in progress'],\n",
    "        'Project management':['administration','agile','budget','cost','direction','feasibility analysis',\n",
    "                              'finance','kanban','leader','leadership','management','milestones','planning',\n",
    "                              'pmi','pmp','problem','project','risk','schedule','scrum','stakeholders'],\n",
    "        'Data analytics':['analytics','api','aws','big data','business intelligence','clustering','code',\n",
    "                          'coding','data','database','data mining','data science','deep learning','hadoop',\n",
    "                          'hypothesis test','iot','internet','machine learning','modeling','nosql','nlp',\n",
    "                          'predictive','programming','python','r','sql','tableau','text mining',\n",
    "                          'visualuzation'],\n",
    "        'Healthcare':['adverse events','care','clinic','cphq','ergonomics','healthcare',\n",
    "                      'health care','health','hospital','human factors','medical','near misses',\n",
    "                      'patient','reporting system']}"
   ]
  },
  {
   "cell_type": "code",
   "execution_count": 6,
   "metadata": {},
   "outputs": [],
   "source": [
    "# Initializie score counters for each area\n",
    "quality = 0\n",
    "operations = 0\n",
    "supplychain = 0\n",
    "project = 0\n",
    "data = 0\n",
    "healthcare = 0"
   ]
  },
  {
   "cell_type": "code",
   "execution_count": 9,
   "metadata": {},
   "outputs": [],
   "source": [
    "# Create an empty list where the scores will be stored\n",
    "scores = []\n",
    "#list of summaries of scores\n",
    "summ_list = []\n",
    "summ_dict = {}\n",
    "#file names to be stored\n",
    "f_names=[]\n",
    "\n",
    "for foldername, subfolders, files in os.walk(r'D:\\Resume Project\\Samples'):        #wherever you have your PDFs\n",
    "    for file in files:\n",
    "        f_names.append(file)\n",
    "        doc = fitz.open(r'D:\\Resume Project\\Samples\\{0}'.format(file))\n",
    "        text = \"\"\n",
    "        for page in doc:\n",
    "            text = text + str(page.getText())\n",
    "            tx = \" \".join(text.split('\\n'))\n",
    "            # Convert all strings to lowercase\n",
    "            tx = tx.lower()\n",
    "    \n",
    "            # Remove numbers\n",
    "            tx = re.sub(r'\\d+','',tx)\n",
    "\n",
    "            # Remove punctuation\n",
    "            tx = tx.translate(str.maketrans('','',string.punctuation))\n",
    "    \n",
    "        # Obtain the scores for each area\n",
    "        for area in terms.keys():\n",
    "        \n",
    "            if area == 'Quality/Six Sigma':\n",
    "                for word in terms[area]:\n",
    "                    if word in tx:\n",
    "                        quality +=1\n",
    "                scores.append(quality)\n",
    "        \n",
    "            elif area == 'Operations management':\n",
    "                for word in terms[area]:\n",
    "                    if word in tx:\n",
    "                        operations +=1\n",
    "                scores.append(operations)\n",
    "        \n",
    "            elif area == 'Supply chain':\n",
    "                for word in terms[area]:\n",
    "                    if word in tx:\n",
    "                        supplychain +=1\n",
    "                scores.append(supplychain)\n",
    "        \n",
    "            elif area == 'Project management':\n",
    "                for word in terms[area]:\n",
    "                    if word in tx:\n",
    "                        project +=1\n",
    "                scores.append(project)\n",
    "        \n",
    "            elif area == 'Data analytics':\n",
    "                for word in terms[area]:\n",
    "                    if word in tx:\n",
    "                        data +=1\n",
    "                scores.append(data)\n",
    "        \n",
    "            else:\n",
    "                for word in terms[area]:\n",
    "                    if word in tx:\n",
    "                        healthcare +=1\n",
    "                scores.append(healthcare)\n",
    "        \n",
    "        summary = pd.DataFrame(scores,index=terms.keys(),columns=['score']).sort_values(by='score',ascending=False)\n",
    "        summ = summary.to_dict()\n",
    "        summ_list.append(summ)\n",
    "        \n",
    "        scores=[]\n",
    "        \n",
    "   "
   ]
  },
  {
   "cell_type": "code",
   "execution_count": 10,
   "metadata": {},
   "outputs": [],
   "source": [
    "#Storing Individual scores(dictionaries) along with parameters in a list\n",
    "final_score =[]\n",
    "for i in range(len(summ_list)):\n",
    "    x=summ_list[i]['score']\n",
    "    final_score.append(x)"
   ]
  },
  {
   "cell_type": "code",
   "execution_count": 11,
   "metadata": {},
   "outputs": [
    {
     "data": {
      "text/html": [
       "<div>\n",
       "<style scoped>\n",
       "    .dataframe tbody tr th:only-of-type {\n",
       "        vertical-align: middle;\n",
       "    }\n",
       "\n",
       "    .dataframe tbody tr th {\n",
       "        vertical-align: top;\n",
       "    }\n",
       "\n",
       "    .dataframe thead th {\n",
       "        text-align: right;\n",
       "    }\n",
       "</style>\n",
       "<table border=\"1\" class=\"dataframe\">\n",
       "  <thead>\n",
       "    <tr style=\"text-align: right;\">\n",
       "      <th></th>\n",
       "      <th>File Name</th>\n",
       "      <th>Score</th>\n",
       "    </tr>\n",
       "  </thead>\n",
       "  <tbody>\n",
       "    <tr>\n",
       "      <th>1</th>\n",
       "      <td>Alice_Clark_CV.pdf</td>\n",
       "      <td>{'Data analytics': 39, 'Project management': 2...</td>\n",
       "    </tr>\n",
       "    <tr>\n",
       "      <th>2</th>\n",
       "      <td>AshlyLauResume.pdf</td>\n",
       "      <td>{'Data analytics': 47, 'Project management': 2...</td>\n",
       "    </tr>\n",
       "    <tr>\n",
       "      <th>3</th>\n",
       "      <td>bhattres.pdf</td>\n",
       "      <td>{'Data analytics': 58, 'Project management': 3...</td>\n",
       "    </tr>\n",
       "    <tr>\n",
       "      <th>4</th>\n",
       "      <td>Jacky-Smith-Resume-Project-Manager.pdf</td>\n",
       "      <td>{'Data analytics': 60, 'Project management': 3...</td>\n",
       "    </tr>\n",
       "    <tr>\n",
       "      <th>5</th>\n",
       "      <td>Smith_Resume.pdf</td>\n",
       "      <td>{'Data analytics': 70, 'Project management': 4...</td>\n",
       "    </tr>\n",
       "    <tr>\n",
       "      <th>6</th>\n",
       "      <td>thomasfrank.pdf</td>\n",
       "      <td>{'Data analytics': 73, 'Project management': 4...</td>\n",
       "    </tr>\n",
       "    <tr>\n",
       "      <th>7</th>\n",
       "      <td>Xinni_Chng.pdf</td>\n",
       "      <td>{'Data analytics': 76, 'Project management': 4...</td>\n",
       "    </tr>\n",
       "  </tbody>\n",
       "</table>\n",
       "</div>"
      ],
      "text/plain": [
       "                                File Name  \\\n",
       "1                      Alice_Clark_CV.pdf   \n",
       "2                      AshlyLauResume.pdf   \n",
       "3                            bhattres.pdf   \n",
       "4  Jacky-Smith-Resume-Project-Manager.pdf   \n",
       "5                        Smith_Resume.pdf   \n",
       "6                         thomasfrank.pdf   \n",
       "7                          Xinni_Chng.pdf   \n",
       "\n",
       "                                               Score  \n",
       "1  {'Data analytics': 39, 'Project management': 2...  \n",
       "2  {'Data analytics': 47, 'Project management': 2...  \n",
       "3  {'Data analytics': 58, 'Project management': 3...  \n",
       "4  {'Data analytics': 60, 'Project management': 3...  \n",
       "5  {'Data analytics': 70, 'Project management': 4...  \n",
       "6  {'Data analytics': 73, 'Project management': 4...  \n",
       "7  {'Data analytics': 76, 'Project management': 4...  "
      ]
     },
     "execution_count": 11,
     "metadata": {},
     "output_type": "execute_result"
    }
   ],
   "source": [
    "t_dict = {'File Name': f_names,'Score' : final_score}\n",
    "\n",
    "t_data = pd.DataFrame.from_dict(t_dict)                         #storing them in a DataFrame\n",
    "t_data.index = np.arange(1, len(t_data)+1)                      #to start index from 1 \n",
    "\n",
    "t_data"
   ]
  },
  {
   "cell_type": "markdown",
   "metadata": {},
   "source": [
    "<h3> Ranking Algo</h3>\n"
   ]
  },
  {
   "cell_type": "code",
   "execution_count": 12,
   "metadata": {},
   "outputs": [
    {
     "data": {
      "text/html": [
       "<div>\n",
       "<style scoped>\n",
       "    .dataframe tbody tr th:only-of-type {\n",
       "        vertical-align: middle;\n",
       "    }\n",
       "\n",
       "    .dataframe tbody tr th {\n",
       "        vertical-align: top;\n",
       "    }\n",
       "\n",
       "    .dataframe thead th {\n",
       "        text-align: right;\n",
       "    }\n",
       "</style>\n",
       "<table border=\"1\" class=\"dataframe\">\n",
       "  <thead>\n",
       "    <tr style=\"text-align: right;\">\n",
       "      <th></th>\n",
       "      <th>Score</th>\n",
       "      <th>word_count</th>\n",
       "    </tr>\n",
       "  </thead>\n",
       "  <tbody>\n",
       "    <tr>\n",
       "      <th>1</th>\n",
       "      <td>{'Data analytics': 39, 'Project management': 2...</td>\n",
       "      <td>17</td>\n",
       "    </tr>\n",
       "    <tr>\n",
       "      <th>2</th>\n",
       "      <td>{'Data analytics': 47, 'Project management': 2...</td>\n",
       "      <td>17</td>\n",
       "    </tr>\n",
       "    <tr>\n",
       "      <th>3</th>\n",
       "      <td>{'Data analytics': 58, 'Project management': 3...</td>\n",
       "      <td>17</td>\n",
       "    </tr>\n",
       "    <tr>\n",
       "      <th>4</th>\n",
       "      <td>{'Data analytics': 60, 'Project management': 3...</td>\n",
       "      <td>17</td>\n",
       "    </tr>\n",
       "    <tr>\n",
       "      <th>5</th>\n",
       "      <td>{'Data analytics': 70, 'Project management': 4...</td>\n",
       "      <td>17</td>\n",
       "    </tr>\n",
       "  </tbody>\n",
       "</table>\n",
       "</div>"
      ],
      "text/plain": [
       "                                               Score  word_count\n",
       "1  {'Data analytics': 39, 'Project management': 2...          17\n",
       "2  {'Data analytics': 47, 'Project management': 2...          17\n",
       "3  {'Data analytics': 58, 'Project management': 3...          17\n",
       "4  {'Data analytics': 60, 'Project management': 3...          17\n",
       "5  {'Data analytics': 70, 'Project management': 4...          17"
      ]
     },
     "execution_count": 12,
     "metadata": {},
     "output_type": "execute_result"
    }
   ],
   "source": [
    "#Fetch wordcount for each resume\n",
    "t_data ['word_count'] = t_data ['Score'].apply(lambda x: len(str(x).split(\" \")))\n",
    "t_data [['Score','word_count']].head()"
   ]
  },
  {
   "cell_type": "code",
   "execution_count": 18,
   "metadata": {},
   "outputs": [
    {
     "data": {
      "text/plain": [
       "array([['Alice_Clark_CV.pdf',\n",
       "        {'Data analytics': 39, 'Project management': 21, 'Supply chain': 10, 'Operations management': 5, 'Quality/Six Sigma': 3, 'Healthcare': 0},\n",
       "        17],\n",
       "       ['AshlyLauResume.pdf',\n",
       "        {'Data analytics': 47, 'Project management': 24, 'Supply chain': 12, 'Operations management': 5, 'Quality/Six Sigma': 4, 'Healthcare': 0},\n",
       "        17],\n",
       "       ['bhattres.pdf',\n",
       "        {'Data analytics': 58, 'Project management': 30, 'Supply chain': 16, 'Operations management': 7, 'Quality/Six Sigma': 5, 'Healthcare': 0},\n",
       "        17],\n",
       "       ['Jacky-Smith-Resume-Project-Manager.pdf',\n",
       "        {'Data analytics': 60, 'Project management': 38, 'Supply chain': 18, 'Operations management': 8, 'Quality/Six Sigma': 6, 'Healthcare': 0},\n",
       "        17],\n",
       "       ['Smith_Resume.pdf',\n",
       "        {'Data analytics': 70, 'Project management': 43, 'Supply chain': 22, 'Operations management': 9, 'Quality/Six Sigma': 7, 'Healthcare': 0},\n",
       "        17],\n",
       "       ['thomasfrank.pdf',\n",
       "        {'Data analytics': 73, 'Project management': 47, 'Supply chain': 22, 'Operations management': 11, 'Quality/Six Sigma': 8, 'Healthcare': 0},\n",
       "        17],\n",
       "       ['Xinni_Chng.pdf',\n",
       "        {'Data analytics': 76, 'Project management': 49, 'Supply chain': 22, 'Operations management': 12, 'Quality/Six Sigma': 9, 'Healthcare': 0},\n",
       "        17]], dtype=object)"
      ]
     },
     "execution_count": 18,
     "metadata": {},
     "output_type": "execute_result"
    }
   ],
   "source": [
    "t_data.values "
   ]
  },
  {
   "cell_type": "code",
   "execution_count": 20,
   "metadata": {},
   "outputs": [
    {
     "data": {
      "text/html": [
       "<div>\n",
       "<style scoped>\n",
       "    .dataframe tbody tr th:only-of-type {\n",
       "        vertical-align: middle;\n",
       "    }\n",
       "\n",
       "    .dataframe tbody tr th {\n",
       "        vertical-align: top;\n",
       "    }\n",
       "\n",
       "    .dataframe thead th {\n",
       "        text-align: right;\n",
       "    }\n",
       "</style>\n",
       "<table border=\"1\" class=\"dataframe\">\n",
       "  <thead>\n",
       "    <tr style=\"text-align: right;\">\n",
       "      <th></th>\n",
       "      <th>File Name</th>\n",
       "      <th>Score</th>\n",
       "      <th>word_count</th>\n",
       "    </tr>\n",
       "  </thead>\n",
       "  <tbody>\n",
       "    <tr>\n",
       "      <th>1</th>\n",
       "      <td>Alice_Clark_CV.pdf</td>\n",
       "      <td>{'Data analytics': 39, 'Project management': 2...</td>\n",
       "      <td>17</td>\n",
       "    </tr>\n",
       "    <tr>\n",
       "      <th>2</th>\n",
       "      <td>AshlyLauResume.pdf</td>\n",
       "      <td>{'Data analytics': 47, 'Project management': 2...</td>\n",
       "      <td>17</td>\n",
       "    </tr>\n",
       "    <tr>\n",
       "      <th>3</th>\n",
       "      <td>bhattres.pdf</td>\n",
       "      <td>{'Data analytics': 58, 'Project management': 3...</td>\n",
       "      <td>17</td>\n",
       "    </tr>\n",
       "    <tr>\n",
       "      <th>4</th>\n",
       "      <td>Jacky-Smith-Resume-Project-Manager.pdf</td>\n",
       "      <td>{'Data analytics': 60, 'Project management': 3...</td>\n",
       "      <td>17</td>\n",
       "    </tr>\n",
       "    <tr>\n",
       "      <th>5</th>\n",
       "      <td>Smith_Resume.pdf</td>\n",
       "      <td>{'Data analytics': 70, 'Project management': 4...</td>\n",
       "      <td>17</td>\n",
       "    </tr>\n",
       "    <tr>\n",
       "      <th>6</th>\n",
       "      <td>thomasfrank.pdf</td>\n",
       "      <td>{'Data analytics': 73, 'Project management': 4...</td>\n",
       "      <td>17</td>\n",
       "    </tr>\n",
       "    <tr>\n",
       "      <th>7</th>\n",
       "      <td>Xinni_Chng.pdf</td>\n",
       "      <td>{'Data analytics': 76, 'Project management': 4...</td>\n",
       "      <td>17</td>\n",
       "    </tr>\n",
       "  </tbody>\n",
       "</table>\n",
       "</div>"
      ],
      "text/plain": [
       "                                File Name  \\\n",
       "1                      Alice_Clark_CV.pdf   \n",
       "2                      AshlyLauResume.pdf   \n",
       "3                            bhattres.pdf   \n",
       "4  Jacky-Smith-Resume-Project-Manager.pdf   \n",
       "5                        Smith_Resume.pdf   \n",
       "6                         thomasfrank.pdf   \n",
       "7                          Xinni_Chng.pdf   \n",
       "\n",
       "                                               Score  word_count  \n",
       "1  {'Data analytics': 39, 'Project management': 2...          17  \n",
       "2  {'Data analytics': 47, 'Project management': 2...          17  \n",
       "3  {'Data analytics': 58, 'Project management': 3...          17  \n",
       "4  {'Data analytics': 60, 'Project management': 3...          17  \n",
       "5  {'Data analytics': 70, 'Project management': 4...          17  \n",
       "6  {'Data analytics': 73, 'Project management': 4...          17  \n",
       "7  {'Data analytics': 76, 'Project management': 4...          17  "
      ]
     },
     "execution_count": 20,
     "metadata": {},
     "output_type": "execute_result"
    }
   ],
   "source": [
    "t_data"
   ]
  },
  {
   "cell_type": "code",
   "execution_count": 56,
   "metadata": {},
   "outputs": [
    {
     "data": {
      "text/html": [
       "<div>\n",
       "<style scoped>\n",
       "    .dataframe tbody tr th:only-of-type {\n",
       "        vertical-align: middle;\n",
       "    }\n",
       "\n",
       "    .dataframe tbody tr th {\n",
       "        vertical-align: top;\n",
       "    }\n",
       "\n",
       "    .dataframe thead th {\n",
       "        text-align: right;\n",
       "    }\n",
       "</style>\n",
       "<table border=\"1\" class=\"dataframe\">\n",
       "  <thead>\n",
       "    <tr style=\"text-align: right;\">\n",
       "      <th></th>\n",
       "      <th>Score</th>\n",
       "    </tr>\n",
       "  </thead>\n",
       "  <tbody>\n",
       "    <tr>\n",
       "      <th>1</th>\n",
       "      <td>{'Data analytics': 39, 'Project management': 2...</td>\n",
       "    </tr>\n",
       "    <tr>\n",
       "      <th>2</th>\n",
       "      <td>{'Data analytics': 47, 'Project management': 2...</td>\n",
       "    </tr>\n",
       "    <tr>\n",
       "      <th>3</th>\n",
       "      <td>{'Data analytics': 58, 'Project management': 3...</td>\n",
       "    </tr>\n",
       "    <tr>\n",
       "      <th>4</th>\n",
       "      <td>{'Data analytics': 60, 'Project management': 3...</td>\n",
       "    </tr>\n",
       "    <tr>\n",
       "      <th>5</th>\n",
       "      <td>{'Data analytics': 70, 'Project management': 4...</td>\n",
       "    </tr>\n",
       "    <tr>\n",
       "      <th>6</th>\n",
       "      <td>{'Data analytics': 73, 'Project management': 4...</td>\n",
       "    </tr>\n",
       "    <tr>\n",
       "      <th>7</th>\n",
       "      <td>{'Data analytics': 76, 'Project management': 4...</td>\n",
       "    </tr>\n",
       "  </tbody>\n",
       "</table>\n",
       "</div>"
      ],
      "text/plain": [
       "                                               Score\n",
       "1  {'Data analytics': 39, 'Project management': 2...\n",
       "2  {'Data analytics': 47, 'Project management': 2...\n",
       "3  {'Data analytics': 58, 'Project management': 3...\n",
       "4  {'Data analytics': 60, 'Project management': 3...\n",
       "5  {'Data analytics': 70, 'Project management': 4...\n",
       "6  {'Data analytics': 73, 'Project management': 4...\n",
       "7  {'Data analytics': 76, 'Project management': 4..."
      ]
     },
     "execution_count": 56,
     "metadata": {},
     "output_type": "execute_result"
    }
   ],
   "source": [
    "Dict1 = pd.DataFrame (Dict)\n",
    "Dict1"
   ]
  },
  {
   "cell_type": "code",
   "execution_count": 75,
   "metadata": {},
   "outputs": [
    {
     "data": {
      "text/plain": [
       "dict_keys(['Data analytics', 'Project management', 'Supply chain', 'Operations management', 'Quality/Six Sigma', 'Healthcare'])"
      ]
     },
     "execution_count": 75,
     "metadata": {},
     "output_type": "execute_result"
    }
   ],
   "source": [
    "column= Dict[1].keys()\n",
    "column"
   ]
  },
  {
   "cell_type": "code",
   "execution_count": 104,
   "metadata": {},
   "outputs": [],
   "source": [
    "a1=[]\n",
    "for i in Dict.index:\n",
    "    a1.append(sum(list(Dict[i].values())))"
   ]
  },
  {
   "cell_type": "code",
   "execution_count": 105,
   "metadata": {
    "scrolled": true
   },
   "outputs": [
    {
     "name": "stdout",
     "output_type": "stream",
     "text": [
      "[78, 92, 116, 130, 151, 161, 168]\n"
     ]
    }
   ],
   "source": [
    "print (a1)"
   ]
  },
  {
   "cell_type": "code",
   "execution_count": 112,
   "metadata": {
    "scrolled": true
   },
   "outputs": [],
   "source": [
    "t_data['Sum']= a1"
   ]
  },
  {
   "cell_type": "code",
   "execution_count": 113,
   "metadata": {
    "scrolled": true
   },
   "outputs": [
    {
     "data": {
      "text/html": [
       "<div>\n",
       "<style scoped>\n",
       "    .dataframe tbody tr th:only-of-type {\n",
       "        vertical-align: middle;\n",
       "    }\n",
       "\n",
       "    .dataframe tbody tr th {\n",
       "        vertical-align: top;\n",
       "    }\n",
       "\n",
       "    .dataframe thead th {\n",
       "        text-align: right;\n",
       "    }\n",
       "</style>\n",
       "<table border=\"1\" class=\"dataframe\">\n",
       "  <thead>\n",
       "    <tr style=\"text-align: right;\">\n",
       "      <th></th>\n",
       "      <th>File Name</th>\n",
       "      <th>Score</th>\n",
       "      <th>word_count</th>\n",
       "      <th>Sum</th>\n",
       "    </tr>\n",
       "  </thead>\n",
       "  <tbody>\n",
       "    <tr>\n",
       "      <th>1</th>\n",
       "      <td>Alice_Clark_CV.pdf</td>\n",
       "      <td>{'Data analytics': 39, 'Project management': 2...</td>\n",
       "      <td>17</td>\n",
       "      <td>78</td>\n",
       "    </tr>\n",
       "    <tr>\n",
       "      <th>2</th>\n",
       "      <td>AshlyLauResume.pdf</td>\n",
       "      <td>{'Data analytics': 47, 'Project management': 2...</td>\n",
       "      <td>17</td>\n",
       "      <td>92</td>\n",
       "    </tr>\n",
       "    <tr>\n",
       "      <th>3</th>\n",
       "      <td>bhattres.pdf</td>\n",
       "      <td>{'Data analytics': 58, 'Project management': 3...</td>\n",
       "      <td>17</td>\n",
       "      <td>116</td>\n",
       "    </tr>\n",
       "    <tr>\n",
       "      <th>4</th>\n",
       "      <td>Jacky-Smith-Resume-Project-Manager.pdf</td>\n",
       "      <td>{'Data analytics': 60, 'Project management': 3...</td>\n",
       "      <td>17</td>\n",
       "      <td>130</td>\n",
       "    </tr>\n",
       "    <tr>\n",
       "      <th>5</th>\n",
       "      <td>Smith_Resume.pdf</td>\n",
       "      <td>{'Data analytics': 70, 'Project management': 4...</td>\n",
       "      <td>17</td>\n",
       "      <td>151</td>\n",
       "    </tr>\n",
       "    <tr>\n",
       "      <th>6</th>\n",
       "      <td>thomasfrank.pdf</td>\n",
       "      <td>{'Data analytics': 73, 'Project management': 4...</td>\n",
       "      <td>17</td>\n",
       "      <td>161</td>\n",
       "    </tr>\n",
       "    <tr>\n",
       "      <th>7</th>\n",
       "      <td>Xinni_Chng.pdf</td>\n",
       "      <td>{'Data analytics': 76, 'Project management': 4...</td>\n",
       "      <td>17</td>\n",
       "      <td>168</td>\n",
       "    </tr>\n",
       "  </tbody>\n",
       "</table>\n",
       "</div>"
      ],
      "text/plain": [
       "                                File Name  \\\n",
       "1                      Alice_Clark_CV.pdf   \n",
       "2                      AshlyLauResume.pdf   \n",
       "3                            bhattres.pdf   \n",
       "4  Jacky-Smith-Resume-Project-Manager.pdf   \n",
       "5                        Smith_Resume.pdf   \n",
       "6                         thomasfrank.pdf   \n",
       "7                          Xinni_Chng.pdf   \n",
       "\n",
       "                                               Score  word_count  Sum  \n",
       "1  {'Data analytics': 39, 'Project management': 2...          17   78  \n",
       "2  {'Data analytics': 47, 'Project management': 2...          17   92  \n",
       "3  {'Data analytics': 58, 'Project management': 3...          17  116  \n",
       "4  {'Data analytics': 60, 'Project management': 3...          17  130  \n",
       "5  {'Data analytics': 70, 'Project management': 4...          17  151  \n",
       "6  {'Data analytics': 73, 'Project management': 4...          17  161  \n",
       "7  {'Data analytics': 76, 'Project management': 4...          17  168  "
      ]
     },
     "execution_count": 113,
     "metadata": {},
     "output_type": "execute_result"
    }
   ],
   "source": [
    "t_data"
   ]
  },
  {
   "cell_type": "code",
   "execution_count": 71,
   "metadata": {},
   "outputs": [
    {
     "data": {
      "text/plain": [
       "array([{'Data analytics': 39, 'Project management': 21, 'Supply chain': 10, 'Operations management': 5, 'Quality/Six Sigma': 3, 'Healthcare': 0},\n",
       "       {'Data analytics': 47, 'Project management': 24, 'Supply chain': 12, 'Operations management': 5, 'Quality/Six Sigma': 4, 'Healthcare': 0},\n",
       "       {'Data analytics': 58, 'Project management': 30, 'Supply chain': 16, 'Operations management': 7, 'Quality/Six Sigma': 5, 'Healthcare': 0},\n",
       "       {'Data analytics': 60, 'Project management': 38, 'Supply chain': 18, 'Operations management': 8, 'Quality/Six Sigma': 6, 'Healthcare': 0},\n",
       "       {'Data analytics': 70, 'Project management': 43, 'Supply chain': 22, 'Operations management': 9, 'Quality/Six Sigma': 7, 'Healthcare': 0},\n",
       "       {'Data analytics': 73, 'Project management': 47, 'Supply chain': 22, 'Operations management': 11, 'Quality/Six Sigma': 8, 'Healthcare': 0},\n",
       "       {'Data analytics': 76, 'Project management': 49, 'Supply chain': 22, 'Operations management': 12, 'Quality/Six Sigma': 9, 'Healthcare': 0}],\n",
       "      dtype=object)"
      ]
     },
     "execution_count": 71,
     "metadata": {},
     "output_type": "execute_result"
    }
   ],
   "source": [
    "Dict= t_data.Score\n",
    "ADict= Dict.values\n",
    "ADict"
   ]
  },
  {
   "cell_type": "code",
   "execution_count": 61,
   "metadata": {},
   "outputs": [
    {
     "data": {
      "text/plain": [
       "array([{'Data analytics': 39, 'Project management': 21, 'Supply chain': 10, 'Operations management': 5, 'Quality/Six Sigma': 3, 'Healthcare': 0},\n",
       "       {'Data analytics': 47, 'Project management': 24, 'Supply chain': 12, 'Operations management': 5, 'Quality/Six Sigma': 4, 'Healthcare': 0},\n",
       "       {'Data analytics': 58, 'Project management': 30, 'Supply chain': 16, 'Operations management': 7, 'Quality/Six Sigma': 5, 'Healthcare': 0},\n",
       "       {'Data analytics': 60, 'Project management': 38, 'Supply chain': 18, 'Operations management': 8, 'Quality/Six Sigma': 6, 'Healthcare': 0},\n",
       "       {'Data analytics': 70, 'Project management': 43, 'Supply chain': 22, 'Operations management': 9, 'Quality/Six Sigma': 7, 'Healthcare': 0},\n",
       "       {'Data analytics': 73, 'Project management': 47, 'Supply chain': 22, 'Operations management': 11, 'Quality/Six Sigma': 8, 'Healthcare': 0},\n",
       "       {'Data analytics': 76, 'Project management': 49, 'Supply chain': 22, 'Operations management': 12, 'Quality/Six Sigma': 9, 'Healthcare': 0}],\n",
       "      dtype=object)"
      ]
     },
     "metadata": {},
     "output_type": "display_data"
    }
   ],
   "source": [
    "np_array = Dict.to_numpy()\n",
    "display(np_array)"
   ]
  },
  {
   "cell_type": "code",
   "execution_count": 62,
   "metadata": {},
   "outputs": [
    {
     "ename": "KeyError",
     "evalue": "\"None of [Index(['Data analytics', 'Project management', 'Supply chain',\\n       'Operations management', 'Quality/Six Sigma', 'Healthcare'],\\n      dtype='object')] are in the [index]\"",
     "output_type": "error",
     "traceback": [
      "\u001b[1;31m---------------------------------------------------------------------------\u001b[0m",
      "\u001b[1;31mKeyError\u001b[0m                                  Traceback (most recent call last)",
      "\u001b[1;32m<ipython-input-62-e54837f41d84>\u001b[0m in \u001b[0;36m<module>\u001b[1;34m\u001b[0m\n\u001b[1;32m----> 1\u001b[1;33m \u001b[0mDict\u001b[0m\u001b[1;33m[\u001b[0m\u001b[1;33m[\u001b[0m\u001b[1;34m'Data analytics'\u001b[0m\u001b[1;33m,\u001b[0m \u001b[1;34m'Project management'\u001b[0m\u001b[1;33m,\u001b[0m \u001b[1;34m'Supply chain'\u001b[0m\u001b[1;33m,\u001b[0m \u001b[1;34m'Operations management'\u001b[0m\u001b[1;33m,\u001b[0m \u001b[1;34m'Quality/Six Sigma'\u001b[0m\u001b[1;33m,\u001b[0m \u001b[1;34m'Healthcare'\u001b[0m\u001b[1;33m]\u001b[0m\u001b[1;33m]\u001b[0m\u001b[1;33m.\u001b[0m\u001b[0mto_numpy\u001b[0m\u001b[1;33m(\u001b[0m\u001b[1;33m)\u001b[0m\u001b[1;33m\u001b[0m\u001b[1;33m\u001b[0m\u001b[0m\n\u001b[0m",
      "\u001b[1;32m~\\anaconda3\\lib\\site-packages\\pandas\\core\\series.py\u001b[0m in \u001b[0;36m__getitem__\u001b[1;34m(self, key)\u001b[0m\n\u001b[0;32m    904\u001b[0m             \u001b[1;32mreturn\u001b[0m \u001b[0mself\u001b[0m\u001b[1;33m.\u001b[0m\u001b[0m_get_values\u001b[0m\u001b[1;33m(\u001b[0m\u001b[0mkey\u001b[0m\u001b[1;33m)\u001b[0m\u001b[1;33m\u001b[0m\u001b[1;33m\u001b[0m\u001b[0m\n\u001b[0;32m    905\u001b[0m \u001b[1;33m\u001b[0m\u001b[0m\n\u001b[1;32m--> 906\u001b[1;33m         \u001b[1;32mreturn\u001b[0m \u001b[0mself\u001b[0m\u001b[1;33m.\u001b[0m\u001b[0m_get_with\u001b[0m\u001b[1;33m(\u001b[0m\u001b[0mkey\u001b[0m\u001b[1;33m)\u001b[0m\u001b[1;33m\u001b[0m\u001b[1;33m\u001b[0m\u001b[0m\n\u001b[0m\u001b[0;32m    907\u001b[0m \u001b[1;33m\u001b[0m\u001b[0m\n\u001b[0;32m    908\u001b[0m     \u001b[1;32mdef\u001b[0m \u001b[0m_get_with\u001b[0m\u001b[1;33m(\u001b[0m\u001b[0mself\u001b[0m\u001b[1;33m,\u001b[0m \u001b[0mkey\u001b[0m\u001b[1;33m)\u001b[0m\u001b[1;33m:\u001b[0m\u001b[1;33m\u001b[0m\u001b[1;33m\u001b[0m\u001b[0m\n",
      "\u001b[1;32m~\\anaconda3\\lib\\site-packages\\pandas\\core\\series.py\u001b[0m in \u001b[0;36m_get_with\u001b[1;34m(self, key)\u001b[0m\n\u001b[0;32m    944\u001b[0m \u001b[1;33m\u001b[0m\u001b[0m\n\u001b[0;32m    945\u001b[0m         \u001b[1;31m# handle the dup indexing case GH#4246\u001b[0m\u001b[1;33m\u001b[0m\u001b[1;33m\u001b[0m\u001b[1;33m\u001b[0m\u001b[0m\n\u001b[1;32m--> 946\u001b[1;33m         \u001b[1;32mreturn\u001b[0m \u001b[0mself\u001b[0m\u001b[1;33m.\u001b[0m\u001b[0mloc\u001b[0m\u001b[1;33m[\u001b[0m\u001b[0mkey\u001b[0m\u001b[1;33m]\u001b[0m\u001b[1;33m\u001b[0m\u001b[1;33m\u001b[0m\u001b[0m\n\u001b[0m\u001b[0;32m    947\u001b[0m \u001b[1;33m\u001b[0m\u001b[0m\n\u001b[0;32m    948\u001b[0m     \u001b[1;32mdef\u001b[0m \u001b[0m_get_values_tuple\u001b[0m\u001b[1;33m(\u001b[0m\u001b[0mself\u001b[0m\u001b[1;33m,\u001b[0m \u001b[0mkey\u001b[0m\u001b[1;33m)\u001b[0m\u001b[1;33m:\u001b[0m\u001b[1;33m\u001b[0m\u001b[1;33m\u001b[0m\u001b[0m\n",
      "\u001b[1;32m~\\anaconda3\\lib\\site-packages\\pandas\\core\\indexing.py\u001b[0m in \u001b[0;36m__getitem__\u001b[1;34m(self, key)\u001b[0m\n\u001b[0;32m    877\u001b[0m \u001b[1;33m\u001b[0m\u001b[0m\n\u001b[0;32m    878\u001b[0m             \u001b[0mmaybe_callable\u001b[0m \u001b[1;33m=\u001b[0m \u001b[0mcom\u001b[0m\u001b[1;33m.\u001b[0m\u001b[0mapply_if_callable\u001b[0m\u001b[1;33m(\u001b[0m\u001b[0mkey\u001b[0m\u001b[1;33m,\u001b[0m \u001b[0mself\u001b[0m\u001b[1;33m.\u001b[0m\u001b[0mobj\u001b[0m\u001b[1;33m)\u001b[0m\u001b[1;33m\u001b[0m\u001b[1;33m\u001b[0m\u001b[0m\n\u001b[1;32m--> 879\u001b[1;33m             \u001b[1;32mreturn\u001b[0m \u001b[0mself\u001b[0m\u001b[1;33m.\u001b[0m\u001b[0m_getitem_axis\u001b[0m\u001b[1;33m(\u001b[0m\u001b[0mmaybe_callable\u001b[0m\u001b[1;33m,\u001b[0m \u001b[0maxis\u001b[0m\u001b[1;33m=\u001b[0m\u001b[0maxis\u001b[0m\u001b[1;33m)\u001b[0m\u001b[1;33m\u001b[0m\u001b[1;33m\u001b[0m\u001b[0m\n\u001b[0m\u001b[0;32m    880\u001b[0m \u001b[1;33m\u001b[0m\u001b[0m\n\u001b[0;32m    881\u001b[0m     \u001b[1;32mdef\u001b[0m \u001b[0m_is_scalar_access\u001b[0m\u001b[1;33m(\u001b[0m\u001b[0mself\u001b[0m\u001b[1;33m,\u001b[0m \u001b[0mkey\u001b[0m\u001b[1;33m:\u001b[0m \u001b[0mTuple\u001b[0m\u001b[1;33m)\u001b[0m\u001b[1;33m:\u001b[0m\u001b[1;33m\u001b[0m\u001b[1;33m\u001b[0m\u001b[0m\n",
      "\u001b[1;32m~\\anaconda3\\lib\\site-packages\\pandas\\core\\indexing.py\u001b[0m in \u001b[0;36m_getitem_axis\u001b[1;34m(self, key, axis)\u001b[0m\n\u001b[0;32m   1097\u001b[0m                     \u001b[1;32mraise\u001b[0m \u001b[0mValueError\u001b[0m\u001b[1;33m(\u001b[0m\u001b[1;34m\"Cannot index with multidimensional key\"\u001b[0m\u001b[1;33m)\u001b[0m\u001b[1;33m\u001b[0m\u001b[1;33m\u001b[0m\u001b[0m\n\u001b[0;32m   1098\u001b[0m \u001b[1;33m\u001b[0m\u001b[0m\n\u001b[1;32m-> 1099\u001b[1;33m                 \u001b[1;32mreturn\u001b[0m \u001b[0mself\u001b[0m\u001b[1;33m.\u001b[0m\u001b[0m_getitem_iterable\u001b[0m\u001b[1;33m(\u001b[0m\u001b[0mkey\u001b[0m\u001b[1;33m,\u001b[0m \u001b[0maxis\u001b[0m\u001b[1;33m=\u001b[0m\u001b[0maxis\u001b[0m\u001b[1;33m)\u001b[0m\u001b[1;33m\u001b[0m\u001b[1;33m\u001b[0m\u001b[0m\n\u001b[0m\u001b[0;32m   1100\u001b[0m \u001b[1;33m\u001b[0m\u001b[0m\n\u001b[0;32m   1101\u001b[0m             \u001b[1;31m# nested tuple slicing\u001b[0m\u001b[1;33m\u001b[0m\u001b[1;33m\u001b[0m\u001b[1;33m\u001b[0m\u001b[0m\n",
      "\u001b[1;32m~\\anaconda3\\lib\\site-packages\\pandas\\core\\indexing.py\u001b[0m in \u001b[0;36m_getitem_iterable\u001b[1;34m(self, key, axis)\u001b[0m\n\u001b[0;32m   1035\u001b[0m \u001b[1;33m\u001b[0m\u001b[0m\n\u001b[0;32m   1036\u001b[0m         \u001b[1;31m# A collection of keys\u001b[0m\u001b[1;33m\u001b[0m\u001b[1;33m\u001b[0m\u001b[1;33m\u001b[0m\u001b[0m\n\u001b[1;32m-> 1037\u001b[1;33m         \u001b[0mkeyarr\u001b[0m\u001b[1;33m,\u001b[0m \u001b[0mindexer\u001b[0m \u001b[1;33m=\u001b[0m \u001b[0mself\u001b[0m\u001b[1;33m.\u001b[0m\u001b[0m_get_listlike_indexer\u001b[0m\u001b[1;33m(\u001b[0m\u001b[0mkey\u001b[0m\u001b[1;33m,\u001b[0m \u001b[0maxis\u001b[0m\u001b[1;33m,\u001b[0m \u001b[0mraise_missing\u001b[0m\u001b[1;33m=\u001b[0m\u001b[1;32mFalse\u001b[0m\u001b[1;33m)\u001b[0m\u001b[1;33m\u001b[0m\u001b[1;33m\u001b[0m\u001b[0m\n\u001b[0m\u001b[0;32m   1038\u001b[0m         return self.obj._reindex_with_indexers(\n\u001b[0;32m   1039\u001b[0m             \u001b[1;33m{\u001b[0m\u001b[0maxis\u001b[0m\u001b[1;33m:\u001b[0m \u001b[1;33m[\u001b[0m\u001b[0mkeyarr\u001b[0m\u001b[1;33m,\u001b[0m \u001b[0mindexer\u001b[0m\u001b[1;33m]\u001b[0m\u001b[1;33m}\u001b[0m\u001b[1;33m,\u001b[0m \u001b[0mcopy\u001b[0m\u001b[1;33m=\u001b[0m\u001b[1;32mTrue\u001b[0m\u001b[1;33m,\u001b[0m \u001b[0mallow_dups\u001b[0m\u001b[1;33m=\u001b[0m\u001b[1;32mTrue\u001b[0m\u001b[1;33m\u001b[0m\u001b[1;33m\u001b[0m\u001b[0m\n",
      "\u001b[1;32m~\\anaconda3\\lib\\site-packages\\pandas\\core\\indexing.py\u001b[0m in \u001b[0;36m_get_listlike_indexer\u001b[1;34m(self, key, axis, raise_missing)\u001b[0m\n\u001b[0;32m   1252\u001b[0m             \u001b[0mkeyarr\u001b[0m\u001b[1;33m,\u001b[0m \u001b[0mindexer\u001b[0m\u001b[1;33m,\u001b[0m \u001b[0mnew_indexer\u001b[0m \u001b[1;33m=\u001b[0m \u001b[0max\u001b[0m\u001b[1;33m.\u001b[0m\u001b[0m_reindex_non_unique\u001b[0m\u001b[1;33m(\u001b[0m\u001b[0mkeyarr\u001b[0m\u001b[1;33m)\u001b[0m\u001b[1;33m\u001b[0m\u001b[1;33m\u001b[0m\u001b[0m\n\u001b[0;32m   1253\u001b[0m \u001b[1;33m\u001b[0m\u001b[0m\n\u001b[1;32m-> 1254\u001b[1;33m         \u001b[0mself\u001b[0m\u001b[1;33m.\u001b[0m\u001b[0m_validate_read_indexer\u001b[0m\u001b[1;33m(\u001b[0m\u001b[0mkeyarr\u001b[0m\u001b[1;33m,\u001b[0m \u001b[0mindexer\u001b[0m\u001b[1;33m,\u001b[0m \u001b[0maxis\u001b[0m\u001b[1;33m,\u001b[0m \u001b[0mraise_missing\u001b[0m\u001b[1;33m=\u001b[0m\u001b[0mraise_missing\u001b[0m\u001b[1;33m)\u001b[0m\u001b[1;33m\u001b[0m\u001b[1;33m\u001b[0m\u001b[0m\n\u001b[0m\u001b[0;32m   1255\u001b[0m         \u001b[1;32mreturn\u001b[0m \u001b[0mkeyarr\u001b[0m\u001b[1;33m,\u001b[0m \u001b[0mindexer\u001b[0m\u001b[1;33m\u001b[0m\u001b[1;33m\u001b[0m\u001b[0m\n\u001b[0;32m   1256\u001b[0m \u001b[1;33m\u001b[0m\u001b[0m\n",
      "\u001b[1;32m~\\anaconda3\\lib\\site-packages\\pandas\\core\\indexing.py\u001b[0m in \u001b[0;36m_validate_read_indexer\u001b[1;34m(self, key, indexer, axis, raise_missing)\u001b[0m\n\u001b[0;32m   1296\u001b[0m             \u001b[1;32mif\u001b[0m \u001b[0mmissing\u001b[0m \u001b[1;33m==\u001b[0m \u001b[0mlen\u001b[0m\u001b[1;33m(\u001b[0m\u001b[0mindexer\u001b[0m\u001b[1;33m)\u001b[0m\u001b[1;33m:\u001b[0m\u001b[1;33m\u001b[0m\u001b[1;33m\u001b[0m\u001b[0m\n\u001b[0;32m   1297\u001b[0m                 \u001b[0maxis_name\u001b[0m \u001b[1;33m=\u001b[0m \u001b[0mself\u001b[0m\u001b[1;33m.\u001b[0m\u001b[0mobj\u001b[0m\u001b[1;33m.\u001b[0m\u001b[0m_get_axis_name\u001b[0m\u001b[1;33m(\u001b[0m\u001b[0maxis\u001b[0m\u001b[1;33m)\u001b[0m\u001b[1;33m\u001b[0m\u001b[1;33m\u001b[0m\u001b[0m\n\u001b[1;32m-> 1298\u001b[1;33m                 \u001b[1;32mraise\u001b[0m \u001b[0mKeyError\u001b[0m\u001b[1;33m(\u001b[0m\u001b[1;34mf\"None of [{key}] are in the [{axis_name}]\"\u001b[0m\u001b[1;33m)\u001b[0m\u001b[1;33m\u001b[0m\u001b[1;33m\u001b[0m\u001b[0m\n\u001b[0m\u001b[0;32m   1299\u001b[0m \u001b[1;33m\u001b[0m\u001b[0m\n\u001b[0;32m   1300\u001b[0m             \u001b[1;31m# We (temporarily) allow for some missing keys with .loc, except in\u001b[0m\u001b[1;33m\u001b[0m\u001b[1;33m\u001b[0m\u001b[1;33m\u001b[0m\u001b[0m\n",
      "\u001b[1;31mKeyError\u001b[0m: \"None of [Index(['Data analytics', 'Project management', 'Supply chain',\\n       'Operations management', 'Quality/Six Sigma', 'Healthcare'],\\n      dtype='object')] are in the [index]\""
     ]
    }
   ],
   "source": [
    "Dict[['Data analytics', 'Project management', 'Supply chain', 'Operations management', 'Quality/Six Sigma', 'Healthcare']].to_numpy()\n"
   ]
  },
  {
   "cell_type": "code",
   "execution_count": null,
   "metadata": {},
   "outputs": [],
   "source": []
  }
 ],
 "metadata": {
  "kernelspec": {
   "display_name": "Python 3",
   "language": "python",
   "name": "python3"
  },
  "language_info": {
   "codemirror_mode": {
    "name": "ipython",
    "version": 3
   },
   "file_extension": ".py",
   "mimetype": "text/x-python",
   "name": "python",
   "nbconvert_exporter": "python",
   "pygments_lexer": "ipython3",
   "version": "3.8.5"
  }
 },
 "nbformat": 4,
 "nbformat_minor": 5
}
