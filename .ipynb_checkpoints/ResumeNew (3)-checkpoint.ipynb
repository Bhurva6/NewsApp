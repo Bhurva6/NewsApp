{
 "cells": [
  {
   "cell_type": "code",
   "execution_count": 1,
   "id": "revolutionary-geology",
   "metadata": {},
   "outputs": [],
   "source": [
    "#importing neccessary libraries\n",
    "\n",
    "import os\n",
    "import numpy as np\n",
    "import pandas as pd\n",
    "import sys, fitz\n",
    "import re\n",
    "import string"
   ]
  },
  {
   "cell_type": "code",
   "execution_count": 60,
   "id": "current-spending",
   "metadata": {},
   "outputs": [],
   "source": [
    "#dictionary with key terms\n",
    "terms = {'Special Qualities':['black belt','capability analysis','control charts','doe','dmaic','fishbone',\n",
    "                              'gage r&r', 'green belt','ishikawa','iso','kaizen','kpi','lean','metrics',\n",
    "                              'pdsa','performance improvement','process improvement','quality',\n",
    "                              'quality circles','quality tools','root cause','six sigma',\n",
    "                              'stability analysis','statistical analysis','tqm'],      \n",
    "        'Operations management':['automation','bottleneck','constraints','cycle time','efficiency','fmea',\n",
    "                                 'machinery','maintenance','manufacture','line balancing','oee','operations',\n",
    "                                 'operations research','optimization','overall equipment effectiveness',\n",
    "                                 'pfmea','process','process mapping','production','resources','safety',\n",
    "                                 'stoppage','value stream mapping','utilization'],\n",
    "        'Supply chain':['abc analysis','apics','customer','customs','delivery','distribution','eoq','epq',\n",
    "                        'fleet','forecast','inventory','logistic','materials','outsourcing','procurement',\n",
    "                        'reorder point','rout','safety stock','scheduling','shipping','stock','suppliers',\n",
    "                        'third party logistics','transport','transportation','traffic','supply chain',\n",
    "                        'vendor','warehouse','wip','work in progress'],\n",
    "        'Project management':['administration','agile','budget','cost','direction','feasibility analysis',\n",
    "                              'finance','kanban','leader','leadership','management','milestones','planning',\n",
    "                              'pmi','pmp','problem','project','risk','schedule','scrum','stakeholders'],\n",
    "        'Data analytics':['analytics','api','aws','big data','business intelligence','clustering','code',\n",
    "                          'coding','data','database','data mining','data science','deep learning','hadoop',\n",
    "                          'hypothesis test','iot','internet','machine learning','modeling','nosql','nlp',\n",
    "                          'predictive','programming','python','r','sql','tableau','text mining',\n",
    "                          'visualuzation'],\n",
    "        'Healthcare':['adverse events','care','clinic','cphq','ergonomics','healthcare',\n",
    "                      'health care','health','hospital','human factors','medical','near misses',\n",
    "                      'patient','reporting system']}"
   ]
  },
  {
   "cell_type": "code",
   "execution_count": 61,
   "id": "greenhouse-acrobat",
   "metadata": {},
   "outputs": [],
   "source": [
    "# Initializie score counters for each area\n",
    "quality = 0\n",
    "operations = 0\n",
    "supplychain = 0\n",
    "project = 0\n",
    "data = 0\n",
    "healthcare = 0"
   ]
  },
  {
   "cell_type": "code",
   "execution_count": 62,
   "id": "passive-lounge",
   "metadata": {},
   "outputs": [],
   "source": [
    "# Create an empty list where the scores will be stored\n",
    "scores = []\n",
    "#list of summaries of scores\n",
    "summ_list = []\n",
    "summ_dict = {}\n",
    "#file names to be stored\n",
    "f_names=[]"
   ]
  },
  {
   "cell_type": "markdown",
   "id": "instant-courage",
   "metadata": {},
   "source": [
    "<h3>Scoring Algorithm</h3>"
   ]
  },
  {
   "cell_type": "code",
   "execution_count": 63,
   "id": "becoming-election",
   "metadata": {},
   "outputs": [],
   "source": [
    "#reading all PDFs\n",
    "\n",
    "for foldername, subfolders, files in os.walk(r'C:\\Users\\some_\\Working\\Resume\\Docs'):        #wherever you have your PDFs\n",
    "    for file in files:\n",
    "        f_names.append(file)\n",
    "        doc = fitz.open(r'C:\\Users\\some_\\Working\\Resume\\Docs\\{0}'.format(file))\n",
    "        text = \"\"\n",
    "        for page in doc:\n",
    "            text = text + str(page.getText())\n",
    "            tx = \" \".join(text.split('\\n'))\n",
    "            # Convert all strings to lowercase\n",
    "            tx = tx.lower()\n",
    "    \n",
    "            # Remove numbers\n",
    "            tx = re.sub(r'\\d+','',tx)\n",
    "\n",
    "            # Remove punctuation\n",
    "            tx = tx.translate(str.maketrans('','',string.punctuation))\n",
    "    \n",
    "        # Obtain the scores for each area\n",
    "        for area in terms.keys():\n",
    "        \n",
    "            if area == 'Quality/Six Sigma':\n",
    "                for word in terms[area]:\n",
    "                    if word in tx:\n",
    "                        quality +=1\n",
    "                scores.append(quality)\n",
    "        \n",
    "            elif area == 'Operations management':\n",
    "                for word in terms[area]:\n",
    "                    if word in tx:\n",
    "                        operations +=1\n",
    "                scores.append(operations)\n",
    "        \n",
    "            elif area == 'Supply chain':\n",
    "                for word in terms[area]:\n",
    "                    if word in tx:\n",
    "                        supplychain +=1\n",
    "                scores.append(supplychain)\n",
    "        \n",
    "            elif area == 'Project management':\n",
    "                for word in terms[area]:\n",
    "                    if word in tx:\n",
    "                        project +=1\n",
    "                scores.append(project)\n",
    "        \n",
    "            elif area == 'Data analytics':\n",
    "                for word in terms[area]:\n",
    "                    if word in tx:\n",
    "                        data +=1\n",
    "                scores.append(data)\n",
    "        \n",
    "            else:\n",
    "                for word in terms[area]:\n",
    "                    if word in tx:\n",
    "                        healthcare +=1\n",
    "                scores.append(healthcare)\n",
    "        \n",
    "        #converting all scores to a dictionary \n",
    "        summary = pd.DataFrame(scores,index=terms.keys(),columns=['score']).sort_values(by='score',ascending=False)\n",
    "        summ = summary.to_dict()\n",
    "        summ_list.append(summ)\n",
    "        \n",
    "        scores=[]\n",
    "        \n",
    "   "
   ]
  },
  {
   "cell_type": "code",
   "execution_count": 64,
   "id": "difficult-tobago",
   "metadata": {},
   "outputs": [],
   "source": [
    "#Storing Individual scores(dictionaries) along with parameters in a list\n",
    "final_score =[]\n",
    "for i in range(len(summ_list)):\n",
    "    x=summ_list[i]['score']\n",
    "    final_score.append(x)"
   ]
  },
  {
   "cell_type": "code",
   "execution_count": 65,
   "id": "minor-kennedy",
   "metadata": {},
   "outputs": [
    {
     "data": {
      "text/html": [
       "<div>\n",
       "<style scoped>\n",
       "    .dataframe tbody tr th:only-of-type {\n",
       "        vertical-align: middle;\n",
       "    }\n",
       "\n",
       "    .dataframe tbody tr th {\n",
       "        vertical-align: top;\n",
       "    }\n",
       "\n",
       "    .dataframe thead th {\n",
       "        text-align: right;\n",
       "    }\n",
       "</style>\n",
       "<table border=\"1\" class=\"dataframe\">\n",
       "  <thead>\n",
       "    <tr style=\"text-align: right;\">\n",
       "      <th></th>\n",
       "      <th>File Name</th>\n",
       "      <th>Score</th>\n",
       "    </tr>\n",
       "  </thead>\n",
       "  <tbody>\n",
       "    <tr>\n",
       "      <th>1</th>\n",
       "      <td>Alice Clark CV.pdf</td>\n",
       "      <td>{'Data analytics': 9, 'Project management': 2,...</td>\n",
       "    </tr>\n",
       "    <tr>\n",
       "      <th>2</th>\n",
       "      <td>AshlyLauResume.pdf</td>\n",
       "      <td>{'Data analytics': 17, 'Project management': 5...</td>\n",
       "    </tr>\n",
       "    <tr>\n",
       "      <th>3</th>\n",
       "      <td>bhattres.pdf</td>\n",
       "      <td>{'Data analytics': 28, 'Project management': 1...</td>\n",
       "    </tr>\n",
       "    <tr>\n",
       "      <th>4</th>\n",
       "      <td>chiakang.pdf</td>\n",
       "      <td>{'Data analytics': 39, 'Project management': 1...</td>\n",
       "    </tr>\n",
       "    <tr>\n",
       "      <th>5</th>\n",
       "      <td>Jacky-Smith-Resume-Project-Manager.pdf</td>\n",
       "      <td>{'Data analytics': 41, 'Project management': 2...</td>\n",
       "    </tr>\n",
       "    <tr>\n",
       "      <th>6</th>\n",
       "      <td>Smith Resume.pdf</td>\n",
       "      <td>{'Data analytics': 51, 'Project management': 2...</td>\n",
       "    </tr>\n",
       "    <tr>\n",
       "      <th>7</th>\n",
       "      <td>thomasfrank.pdf</td>\n",
       "      <td>{'Data analytics': 54, 'Project management': 3...</td>\n",
       "    </tr>\n",
       "    <tr>\n",
       "      <th>8</th>\n",
       "      <td>Xinni_Chng.pdf</td>\n",
       "      <td>{'Data analytics': 57, 'Project management': 3...</td>\n",
       "    </tr>\n",
       "  </tbody>\n",
       "</table>\n",
       "</div>"
      ],
      "text/plain": [
       "                                File Name  \\\n",
       "1                      Alice Clark CV.pdf   \n",
       "2                      AshlyLauResume.pdf   \n",
       "3                            bhattres.pdf   \n",
       "4                            chiakang.pdf   \n",
       "5  Jacky-Smith-Resume-Project-Manager.pdf   \n",
       "6                        Smith Resume.pdf   \n",
       "7                         thomasfrank.pdf   \n",
       "8                          Xinni_Chng.pdf   \n",
       "\n",
       "                                               Score  \n",
       "1  {'Data analytics': 9, 'Project management': 2,...  \n",
       "2  {'Data analytics': 17, 'Project management': 5...  \n",
       "3  {'Data analytics': 28, 'Project management': 1...  \n",
       "4  {'Data analytics': 39, 'Project management': 1...  \n",
       "5  {'Data analytics': 41, 'Project management': 2...  \n",
       "6  {'Data analytics': 51, 'Project management': 2...  \n",
       "7  {'Data analytics': 54, 'Project management': 3...  \n",
       "8  {'Data analytics': 57, 'Project management': 3...  "
      ]
     },
     "execution_count": 65,
     "metadata": {},
     "output_type": "execute_result"
    }
   ],
   "source": [
    "t_dict = {'File Name': f_names,'Score' : final_score}\n",
    "\n",
    "t_data = pd.DataFrame.from_dict(t_dict)                         #storing them in a DataFrame\n",
    "t_data.index = np.arange(1, len(t_data)+1)                      #to start index from 1 \n",
    "\n",
    "t_data"
   ]
  },
  {
   "cell_type": "markdown",
   "id": "genetic-hierarchy",
   "metadata": {},
   "source": [
    "<h3>Ideas to extract info for Ranking Algo</h3>"
   ]
  },
  {
   "cell_type": "code",
   "execution_count": 8,
   "id": "norwegian-constant",
   "metadata": {},
   "outputs": [
    {
     "data": {
      "text/plain": [
       "File Name               Jacky-Smith-Resume-Project-Manager.pdf\n",
       "Score        {'Data analytics': 41, 'Project management': 2...\n",
       "Name: 5, dtype: object"
      ]
     },
     "execution_count": 8,
     "metadata": {},
     "output_type": "execute_result"
    }
   ],
   "source": [
    "t_data.loc[5]"
   ]
  },
  {
   "cell_type": "code",
   "execution_count": 9,
   "id": "applied-masters",
   "metadata": {},
   "outputs": [
    {
     "data": {
      "text/plain": [
       "{'Data analytics': 41,\n",
       " 'Project management': 22,\n",
       " 'Supply chain': 9,\n",
       " 'Operations management': 5,\n",
       " 'Special Qualities': 4,\n",
       " 'Healthcare': 4}"
      ]
     },
     "execution_count": 9,
     "metadata": {},
     "output_type": "execute_result"
    }
   ],
   "source": [
    "t_data.loc[5]['Score']"
   ]
  },
  {
   "cell_type": "code",
   "execution_count": 10,
   "id": "interesting-bishop",
   "metadata": {},
   "outputs": [
    {
     "data": {
      "text/plain": [
       "41"
      ]
     },
     "execution_count": 10,
     "metadata": {},
     "output_type": "execute_result"
    }
   ],
   "source": [
    "t_data.loc[5]['Score']['Data analytics']"
   ]
  },
  {
   "cell_type": "markdown",
   "id": "following-compilation",
   "metadata": {},
   "source": [
    "<h3>Ranking Algorithm</h3>"
   ]
  },
  {
   "cell_type": "code",
   "execution_count": 108,
   "id": "cooked-checklist",
   "metadata": {},
   "outputs": [],
   "source": [
    "#taking input from the user\n",
    "def choose():\n",
    "    print(\"Choose most relevant category acc to the Job Profile:\")\n",
    "    print()\n",
    "    y=1\n",
    "    for i in list(terms.keys()):\n",
    "        print(y,i)\n",
    "        y = y +1\n",
    "    paramin()"
   ]
  },
  {
   "cell_type": "code",
   "execution_count": 109,
   "id": "molecular-diary",
   "metadata": {},
   "outputs": [],
   "source": [
    "\n",
    "def paramin():\n",
    "\n",
    "    try:\n",
    "        param = int(input(\"Enter number corresponding to choice: \"))\n",
    "\n",
    "        if param == 1:\n",
    "            att = 'Special Qualities'\n",
    "        elif param == 2:\n",
    "            att = 'Operations management'\n",
    "        elif param == 3:\n",
    "            att = 'Supply chain'\n",
    "        elif param == 4:\n",
    "            att = 'Project management'\n",
    "        elif param == 5:\n",
    "            att = 'Data analytics'\n",
    "        elif param == 6:\n",
    "            att = 'Healthcare'\n",
    "        else:\n",
    "            print()\n",
    "            print('******************************')\n",
    "            print(\"Wrong Input\")\n",
    "            choose()\n",
    "\n",
    "    except:\n",
    "        print()\n",
    "        print('******************************')\n",
    "        print(\"Wrong Input\")\n",
    "        choose()\n",
    "    \n",
    "    return att\n"
   ]
  },
  {
   "cell_type": "code",
   "execution_count": 111,
   "id": "infinite-genealogy",
   "metadata": {},
   "outputs": [
    {
     "data": {
      "text/plain": [
       "'Data analytics'"
      ]
     },
     "execution_count": 111,
     "metadata": {},
     "output_type": "execute_result"
    }
   ],
   "source": [
    "att"
   ]
  },
  {
   "cell_type": "code",
   "execution_count": 110,
   "id": "controlled-austria",
   "metadata": {},
   "outputs": [
    {
     "name": "stdout",
     "output_type": "stream",
     "text": [
      "Choose most relevant category acc to the Job Profile:\n",
      "\n",
      "1 Special Qualities\n",
      "2 Operations management\n",
      "3 Supply chain\n",
      "4 Project management\n",
      "5 Data analytics\n",
      "6 Healthcare\n",
      "Enter number corresponding to choice: 2\n"
     ]
    }
   ],
   "source": [
    "choose()"
   ]
  },
  {
   "cell_type": "code",
   "execution_count": 82,
   "id": "aerial-carbon",
   "metadata": {},
   "outputs": [],
   "source": [
    "tdc = t_data.copy()"
   ]
  },
  {
   "cell_type": "code",
   "execution_count": 83,
   "id": "latter-passage",
   "metadata": {},
   "outputs": [],
   "source": [
    "for i in range(1,len(tdc['Score'])+1):\n",
    "    a= tdc.loc[i]['Score'][att]\n",
    "    b= a *2\n",
    "    atry=tdc.loc[i]['Score']\n",
    "    atry[att] =b"
   ]
  },
  {
   "cell_type": "code",
   "execution_count": 84,
   "id": "proof-green",
   "metadata": {},
   "outputs": [
    {
     "data": {
      "text/html": [
       "<div>\n",
       "<style scoped>\n",
       "    .dataframe tbody tr th:only-of-type {\n",
       "        vertical-align: middle;\n",
       "    }\n",
       "\n",
       "    .dataframe tbody tr th {\n",
       "        vertical-align: top;\n",
       "    }\n",
       "\n",
       "    .dataframe thead th {\n",
       "        text-align: right;\n",
       "    }\n",
       "</style>\n",
       "<table border=\"1\" class=\"dataframe\">\n",
       "  <thead>\n",
       "    <tr style=\"text-align: right;\">\n",
       "      <th></th>\n",
       "      <th>File Name</th>\n",
       "      <th>Score</th>\n",
       "      <th>Total</th>\n",
       "    </tr>\n",
       "  </thead>\n",
       "  <tbody>\n",
       "    <tr>\n",
       "      <th>1</th>\n",
       "      <td>Alice Clark CV.pdf</td>\n",
       "      <td>{'Data analytics': 18, 'Project management': 2...</td>\n",
       "      <td>22</td>\n",
       "    </tr>\n",
       "    <tr>\n",
       "      <th>2</th>\n",
       "      <td>AshlyLauResume.pdf</td>\n",
       "      <td>{'Data analytics': 34, 'Project management': 5...</td>\n",
       "      <td>45</td>\n",
       "    </tr>\n",
       "    <tr>\n",
       "      <th>3</th>\n",
       "      <td>bhattres.pdf</td>\n",
       "      <td>{'Data analytics': 56, 'Project management': 1...</td>\n",
       "      <td>81</td>\n",
       "    </tr>\n",
       "    <tr>\n",
       "      <th>4</th>\n",
       "      <td>chiakang.pdf</td>\n",
       "      <td>{'Data analytics': 78, 'Project management': 1...</td>\n",
       "      <td>109</td>\n",
       "    </tr>\n",
       "    <tr>\n",
       "      <th>5</th>\n",
       "      <td>Jacky-Smith-Resume-Project-Manager.pdf</td>\n",
       "      <td>{'Data analytics': 82, 'Project management': 2...</td>\n",
       "      <td>126</td>\n",
       "    </tr>\n",
       "    <tr>\n",
       "      <th>6</th>\n",
       "      <td>Smith Resume.pdf</td>\n",
       "      <td>{'Data analytics': 102, 'Project management': ...</td>\n",
       "      <td>158</td>\n",
       "    </tr>\n",
       "    <tr>\n",
       "      <th>7</th>\n",
       "      <td>thomasfrank.pdf</td>\n",
       "      <td>{'Data analytics': 108, 'Project management': ...</td>\n",
       "      <td>172</td>\n",
       "    </tr>\n",
       "    <tr>\n",
       "      <th>8</th>\n",
       "      <td>Xinni_Chng.pdf</td>\n",
       "      <td>{'Data analytics': 114, 'Project management': ...</td>\n",
       "      <td>183</td>\n",
       "    </tr>\n",
       "  </tbody>\n",
       "</table>\n",
       "</div>"
      ],
      "text/plain": [
       "                                File Name  \\\n",
       "1                      Alice Clark CV.pdf   \n",
       "2                      AshlyLauResume.pdf   \n",
       "3                            bhattres.pdf   \n",
       "4                            chiakang.pdf   \n",
       "5  Jacky-Smith-Resume-Project-Manager.pdf   \n",
       "6                        Smith Resume.pdf   \n",
       "7                         thomasfrank.pdf   \n",
       "8                          Xinni_Chng.pdf   \n",
       "\n",
       "                                               Score  Total  \n",
       "1  {'Data analytics': 18, 'Project management': 2...     22  \n",
       "2  {'Data analytics': 34, 'Project management': 5...     45  \n",
       "3  {'Data analytics': 56, 'Project management': 1...     81  \n",
       "4  {'Data analytics': 78, 'Project management': 1...    109  \n",
       "5  {'Data analytics': 82, 'Project management': 2...    126  \n",
       "6  {'Data analytics': 102, 'Project management': ...    158  \n",
       "7  {'Data analytics': 108, 'Project management': ...    172  \n",
       "8  {'Data analytics': 114, 'Project management': ...    183  "
      ]
     },
     "execution_count": 84,
     "metadata": {},
     "output_type": "execute_result"
    }
   ],
   "source": [
    "total = 0\n",
    "total_list =[]\n",
    "for j in range(1,len(tdc['Score'])+1):\n",
    "    a= tdc.loc[j]['Score']\n",
    "    for k in list(a.values()):\n",
    "        total = total + k\n",
    "    #print(j,total)\n",
    "    total_list.append(total)\n",
    "    total =0\n",
    "    \n",
    "tdc['Total'] = total_list\n",
    "tdc"
   ]
  },
  {
   "cell_type": "code",
   "execution_count": 105,
   "id": "recent-stake",
   "metadata": {},
   "outputs": [
    {
     "data": {
      "text/html": [
       "<div>\n",
       "<style scoped>\n",
       "    .dataframe tbody tr th:only-of-type {\n",
       "        vertical-align: middle;\n",
       "    }\n",
       "\n",
       "    .dataframe tbody tr th {\n",
       "        vertical-align: top;\n",
       "    }\n",
       "\n",
       "    .dataframe thead th {\n",
       "        text-align: right;\n",
       "    }\n",
       "</style>\n",
       "<table border=\"1\" class=\"dataframe\">\n",
       "  <thead>\n",
       "    <tr style=\"text-align: right;\">\n",
       "      <th></th>\n",
       "      <th>File Name</th>\n",
       "      <th>Score</th>\n",
       "      <th>Total</th>\n",
       "    </tr>\n",
       "  </thead>\n",
       "  <tbody>\n",
       "    <tr>\n",
       "      <th>8</th>\n",
       "      <td>Xinni_Chng.pdf</td>\n",
       "      <td>{'Data analytics': 114, 'Project management': ...</td>\n",
       "      <td>183</td>\n",
       "    </tr>\n",
       "    <tr>\n",
       "      <th>7</th>\n",
       "      <td>thomasfrank.pdf</td>\n",
       "      <td>{'Data analytics': 108, 'Project management': ...</td>\n",
       "      <td>172</td>\n",
       "    </tr>\n",
       "    <tr>\n",
       "      <th>6</th>\n",
       "      <td>Smith Resume.pdf</td>\n",
       "      <td>{'Data analytics': 102, 'Project management': ...</td>\n",
       "      <td>158</td>\n",
       "    </tr>\n",
       "    <tr>\n",
       "      <th>5</th>\n",
       "      <td>Jacky-Smith-Resume-Project-Manager.pdf</td>\n",
       "      <td>{'Data analytics': 82, 'Project management': 2...</td>\n",
       "      <td>126</td>\n",
       "    </tr>\n",
       "    <tr>\n",
       "      <th>4</th>\n",
       "      <td>chiakang.pdf</td>\n",
       "      <td>{'Data analytics': 78, 'Project management': 1...</td>\n",
       "      <td>109</td>\n",
       "    </tr>\n",
       "    <tr>\n",
       "      <th>3</th>\n",
       "      <td>bhattres.pdf</td>\n",
       "      <td>{'Data analytics': 56, 'Project management': 1...</td>\n",
       "      <td>81</td>\n",
       "    </tr>\n",
       "    <tr>\n",
       "      <th>2</th>\n",
       "      <td>AshlyLauResume.pdf</td>\n",
       "      <td>{'Data analytics': 34, 'Project management': 5...</td>\n",
       "      <td>45</td>\n",
       "    </tr>\n",
       "    <tr>\n",
       "      <th>1</th>\n",
       "      <td>Alice Clark CV.pdf</td>\n",
       "      <td>{'Data analytics': 18, 'Project management': 2...</td>\n",
       "      <td>22</td>\n",
       "    </tr>\n",
       "  </tbody>\n",
       "</table>\n",
       "</div>"
      ],
      "text/plain": [
       "                                File Name  \\\n",
       "8                          Xinni_Chng.pdf   \n",
       "7                         thomasfrank.pdf   \n",
       "6                        Smith Resume.pdf   \n",
       "5  Jacky-Smith-Resume-Project-Manager.pdf   \n",
       "4                            chiakang.pdf   \n",
       "3                            bhattres.pdf   \n",
       "2                      AshlyLauResume.pdf   \n",
       "1                      Alice Clark CV.pdf   \n",
       "\n",
       "                                               Score  Total  \n",
       "8  {'Data analytics': 114, 'Project management': ...    183  \n",
       "7  {'Data analytics': 108, 'Project management': ...    172  \n",
       "6  {'Data analytics': 102, 'Project management': ...    158  \n",
       "5  {'Data analytics': 82, 'Project management': 2...    126  \n",
       "4  {'Data analytics': 78, 'Project management': 1...    109  \n",
       "3  {'Data analytics': 56, 'Project management': 1...     81  \n",
       "2  {'Data analytics': 34, 'Project management': 5...     45  \n",
       "1  {'Data analytics': 18, 'Project management': 2...     22  "
      ]
     },
     "execution_count": 105,
     "metadata": {},
     "output_type": "execute_result"
    }
   ],
   "source": [
    "tdc.sort_values(by=['Total'],ascending =False)"
   ]
  },
  {
   "cell_type": "markdown",
   "id": "alpine-partner",
   "metadata": {},
   "source": [
    "<h3>Displaying the results</h3>"
   ]
  },
  {
   "cell_type": "code",
   "execution_count": 106,
   "id": "dependent-diameter",
   "metadata": {},
   "outputs": [
    {
     "data": {
      "text/html": [
       "<div>\n",
       "<style scoped>\n",
       "    .dataframe tbody tr th:only-of-type {\n",
       "        vertical-align: middle;\n",
       "    }\n",
       "\n",
       "    .dataframe tbody tr th {\n",
       "        vertical-align: top;\n",
       "    }\n",
       "\n",
       "    .dataframe thead th {\n",
       "        text-align: right;\n",
       "    }\n",
       "</style>\n",
       "<table border=\"1\" class=\"dataframe\">\n",
       "  <thead>\n",
       "    <tr style=\"text-align: right;\">\n",
       "      <th></th>\n",
       "      <th>File Name</th>\n",
       "      <th>Score</th>\n",
       "      <th>Total</th>\n",
       "    </tr>\n",
       "  </thead>\n",
       "  <tbody>\n",
       "    <tr>\n",
       "      <th>8</th>\n",
       "      <td>Xinni_Chng.pdf</td>\n",
       "      <td>{'Data analytics': 114, 'Project management': ...</td>\n",
       "      <td>183</td>\n",
       "    </tr>\n",
       "    <tr>\n",
       "      <th>7</th>\n",
       "      <td>thomasfrank.pdf</td>\n",
       "      <td>{'Data analytics': 108, 'Project management': ...</td>\n",
       "      <td>172</td>\n",
       "    </tr>\n",
       "    <tr>\n",
       "      <th>6</th>\n",
       "      <td>Smith Resume.pdf</td>\n",
       "      <td>{'Data analytics': 102, 'Project management': ...</td>\n",
       "      <td>158</td>\n",
       "    </tr>\n",
       "  </tbody>\n",
       "</table>\n",
       "</div>"
      ],
      "text/plain": [
       "          File Name                                              Score  Total\n",
       "8    Xinni_Chng.pdf  {'Data analytics': 114, 'Project management': ...    183\n",
       "7   thomasfrank.pdf  {'Data analytics': 108, 'Project management': ...    172\n",
       "6  Smith Resume.pdf  {'Data analytics': 102, 'Project management': ...    158"
      ]
     },
     "execution_count": 106,
     "metadata": {},
     "output_type": "execute_result"
    }
   ],
   "source": [
    "tdc.sort_values(by=['Total'],ascending =False)[:3]"
   ]
  },
  {
   "cell_type": "code",
   "execution_count": null,
   "id": "virgin-bones",
   "metadata": {},
   "outputs": [],
   "source": []
  }
 ],
 "metadata": {
  "kernelspec": {
   "display_name": "Python 3",
   "language": "python",
   "name": "python3"
  },
  "language_info": {
   "codemirror_mode": {
    "name": "ipython",
    "version": 3
   },
   "file_extension": ".py",
   "mimetype": "text/x-python",
   "name": "python",
   "nbconvert_exporter": "python",
   "pygments_lexer": "ipython3",
   "version": "3.8.8"
  }
 },
 "nbformat": 4,
 "nbformat_minor": 5
}
