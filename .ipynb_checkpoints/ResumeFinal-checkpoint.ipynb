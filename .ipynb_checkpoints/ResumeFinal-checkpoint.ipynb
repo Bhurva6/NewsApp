{
 "cells": [
  {
   "cell_type": "code",
   "execution_count": 11,
   "metadata": {},
   "outputs": [],
   "source": [
    "#importing neccessary libraries\n",
    "\n",
    "import os\n",
    "import numpy as np\n",
    "import pandas as pd\n",
    "import sys, fitz\n",
    "import re\n",
    "import string"
   ]
  },
  {
   "cell_type": "code",
   "execution_count": 12,
   "metadata": {},
   "outputs": [],
   "source": [
    "#dictionary with key terms\n",
    "terms = {'Special Qualities':['black belt','capability analysis','control charts','doe','dmaic','fishbone',\n",
    "                              'gage r&r', 'green belt','ishikawa','iso','kaizen','kpi','lean','metrics',\n",
    "                              'pdsa','performance improvement','process improvement','quality',\n",
    "                              'quality circles','quality tools','root cause','six sigma',\n",
    "                              'stability analysis','statistical analysis','tqm'],      \n",
    "        'Operations management':['automation','bottleneck','constraints','cycle time','efficiency','fmea',\n",
    "                                 'machinery','maintenance','manufacture','line balancing','oee','operations',\n",
    "                                 'operations research','optimization','overall equipment effectiveness',\n",
    "                                 'pfmea','process','process mapping','production','resources','safety',\n",
    "                                 'stoppage','value stream mapping','utilization'],\n",
    "        'Supply chain':['abc analysis','apics','customer','customs','delivery','distribution','eoq','epq',\n",
    "                        'fleet','forecast','inventory','logistic','materials','outsourcing','procurement',\n",
    "                        'reorder point','rout','safety stock','scheduling','shipping','stock','suppliers',\n",
    "                        'third party logistics','transport','transportation','traffic','supply chain',\n",
    "                        'vendor','warehouse','wip','work in progress'],\n",
    "        'Project management':['administration','agile','budget','cost','direction','feasibility analysis',\n",
    "                              'finance','kanban','leader','leadership','management','milestones','planning',\n",
    "                              'pmi','pmp','problem','project','risk','schedule','scrum','stakeholders'],\n",
    "        'Data analytics':['analytics','api','aws','big data','business intelligence','clustering','code',\n",
    "                          'coding','data','database','data mining','data science','deep learning','hadoop',\n",
    "                          'hypothesis test','iot','internet','machine learning','modeling','nosql','nlp',\n",
    "                          'predictive','programming','python','r','sql','tableau','text mining',\n",
    "                          'visualuzation'],\n",
    "        'Healthcare':['adverse events','care','clinic','cphq','ergonomics','healthcare',\n",
    "                      'health care','health','hospital','human factors','medical','near misses',\n",
    "                      'patient','reporting system']}"
   ]
  },
  {
   "cell_type": "code",
   "execution_count": 13,
   "metadata": {},
   "outputs": [],
   "source": [
    "# Initializie score counters for each area\n",
    "quality = 0\n",
    "operations = 0\n",
    "supplychain = 0\n",
    "project = 0\n",
    "data = 0\n",
    "healthcare = 0"
   ]
  },
  {
   "cell_type": "code",
   "execution_count": 14,
   "metadata": {},
   "outputs": [],
   "source": [
    "# Create an empty list where the scores will be stored\n",
    "scores = []\n",
    "#list of summaries of scores\n",
    "summ_list = []\n",
    "summ_dict = {}\n",
    "#file names to be stored\n",
    "f_names=[]"
   ]
  },
  {
   "cell_type": "markdown",
   "metadata": {},
   "source": [
    "<h3>Scoring Algorithm</h3>"
   ]
  },
  {
   "cell_type": "code",
   "execution_count": 15,
   "metadata": {},
   "outputs": [],
   "source": [
    "#reading all PDFs\n",
    "\n",
    "for foldername, subfolders, files in os.walk(r'C:\\Users\\some_\\Working\\Resume\\Docs'):        #wherever you have your PDFs\n",
    "    for file in files:\n",
    "        f_names.append(file)\n",
    "        doc = fitz.open(r'C:\\Users\\some_\\Working\\Resume\\Docs\\{0}'.format(file))\n",
    "        text = \"\"\n",
    "        for page in doc:\n",
    "            text = text + str(page.getText())\n",
    "            tx = \" \".join(text.split('\\n'))\n",
    "            # Convert all strings to lowercase\n",
    "            tx = tx.lower()\n",
    "    \n",
    "            # Remove numbers\n",
    "            tx = re.sub(r'\\d+','',tx)\n",
    "\n",
    "            # Remove punctuation\n",
    "            tx = tx.translate(str.maketrans('','',string.punctuation))\n",
    "    \n",
    "        # Obtain the scores for each area\n",
    "        for area in terms.keys():\n",
    "        \n",
    "            if area == 'Quality/Six Sigma':\n",
    "                for word in terms[area]:\n",
    "                    if word in tx:\n",
    "                        quality +=1\n",
    "                scores.append(quality)\n",
    "        \n",
    "            elif area == 'Operations management':\n",
    "                for word in terms[area]:\n",
    "                    if word in tx:\n",
    "                        operations +=1\n",
    "                scores.append(operations)\n",
    "        \n",
    "            elif area == 'Supply chain':\n",
    "                for word in terms[area]:\n",
    "                    if word in tx:\n",
    "                        supplychain +=1\n",
    "                scores.append(supplychain)\n",
    "        \n",
    "            elif area == 'Project management':\n",
    "                for word in terms[area]:\n",
    "                    if word in tx:\n",
    "                        project +=1\n",
    "                scores.append(project)\n",
    "        \n",
    "            elif area == 'Data analytics':\n",
    "                for word in terms[area]:\n",
    "                    if word in tx:\n",
    "                        data +=1\n",
    "                scores.append(data)\n",
    "        \n",
    "            else:\n",
    "                for word in terms[area]:\n",
    "                    if word in tx:\n",
    "                        healthcare +=1\n",
    "                scores.append(healthcare)\n",
    "        \n",
    "        #converting all scores to a dictionary \n",
    "        summary = pd.DataFrame(scores,index=terms.keys(),columns=['score']).sort_values(by='score',ascending=False)\n",
    "        summ = summary.to_dict()\n",
    "        summ_list.append(summ)\n",
    "        \n",
    "        scores=[]\n",
    "        \n",
    "   "
   ]
  },
  {
   "cell_type": "code",
   "execution_count": 16,
   "metadata": {},
   "outputs": [],
   "source": [
    "#Storing Individual scores(dictionaries) along with parameters in a list\n",
    "final_score =[]\n",
    "for i in range(len(summ_list)):\n",
    "    x=summ_list[i]['score']\n",
    "    final_score.append(x)"
   ]
  },
  {
   "cell_type": "code",
   "execution_count": 17,
   "metadata": {},
   "outputs": [
    {
     "data": {
      "text/html": [
       "<div>\n",
       "<style scoped>\n",
       "    .dataframe tbody tr th:only-of-type {\n",
       "        vertical-align: middle;\n",
       "    }\n",
       "\n",
       "    .dataframe tbody tr th {\n",
       "        vertical-align: top;\n",
       "    }\n",
       "\n",
       "    .dataframe thead th {\n",
       "        text-align: right;\n",
       "    }\n",
       "</style>\n",
       "<table border=\"1\" class=\"dataframe\">\n",
       "  <thead>\n",
       "    <tr style=\"text-align: right;\">\n",
       "      <th></th>\n",
       "      <th>File Name</th>\n",
       "      <th>Score</th>\n",
       "    </tr>\n",
       "  </thead>\n",
       "  <tbody>\n",
       "    <tr>\n",
       "      <th>1</th>\n",
       "      <td>Alice Clark CV.pdf</td>\n",
       "      <td>{'Data analytics': 9, 'Project management': 2,...</td>\n",
       "    </tr>\n",
       "    <tr>\n",
       "      <th>2</th>\n",
       "      <td>AshlyLauResume.pdf</td>\n",
       "      <td>{'Data analytics': 17, 'Project management': 5...</td>\n",
       "    </tr>\n",
       "    <tr>\n",
       "      <th>3</th>\n",
       "      <td>bhattres.pdf</td>\n",
       "      <td>{'Data analytics': 28, 'Project management': 1...</td>\n",
       "    </tr>\n",
       "    <tr>\n",
       "      <th>4</th>\n",
       "      <td>chiakang.pdf</td>\n",
       "      <td>{'Data analytics': 39, 'Project management': 1...</td>\n",
       "    </tr>\n",
       "    <tr>\n",
       "      <th>5</th>\n",
       "      <td>Jacky-Smith-Resume-Project-Manager.pdf</td>\n",
       "      <td>{'Data analytics': 41, 'Project management': 2...</td>\n",
       "    </tr>\n",
       "    <tr>\n",
       "      <th>6</th>\n",
       "      <td>Smith Resume.pdf</td>\n",
       "      <td>{'Data analytics': 51, 'Project management': 2...</td>\n",
       "    </tr>\n",
       "    <tr>\n",
       "      <th>7</th>\n",
       "      <td>thomasfrank.pdf</td>\n",
       "      <td>{'Data analytics': 54, 'Project management': 3...</td>\n",
       "    </tr>\n",
       "    <tr>\n",
       "      <th>8</th>\n",
       "      <td>Xinni_Chng.pdf</td>\n",
       "      <td>{'Data analytics': 57, 'Project management': 3...</td>\n",
       "    </tr>\n",
       "  </tbody>\n",
       "</table>\n",
       "</div>"
      ],
      "text/plain": [
       "                                File Name  \\\n",
       "1                      Alice Clark CV.pdf   \n",
       "2                      AshlyLauResume.pdf   \n",
       "3                            bhattres.pdf   \n",
       "4                            chiakang.pdf   \n",
       "5  Jacky-Smith-Resume-Project-Manager.pdf   \n",
       "6                        Smith Resume.pdf   \n",
       "7                         thomasfrank.pdf   \n",
       "8                          Xinni_Chng.pdf   \n",
       "\n",
       "                                               Score  \n",
       "1  {'Data analytics': 9, 'Project management': 2,...  \n",
       "2  {'Data analytics': 17, 'Project management': 5...  \n",
       "3  {'Data analytics': 28, 'Project management': 1...  \n",
       "4  {'Data analytics': 39, 'Project management': 1...  \n",
       "5  {'Data analytics': 41, 'Project management': 2...  \n",
       "6  {'Data analytics': 51, 'Project management': 2...  \n",
       "7  {'Data analytics': 54, 'Project management': 3...  \n",
       "8  {'Data analytics': 57, 'Project management': 3...  "
      ]
     },
     "execution_count": 17,
     "metadata": {},
     "output_type": "execute_result"
    }
   ],
   "source": [
    "t_dict = {'File Name': f_names,'Score' : final_score}\n",
    "\n",
    "t_data = pd.DataFrame.from_dict(t_dict)                         #storing them in a DataFrame\n",
    "t_data.index = np.arange(1, len(t_data)+1)                      #to start index from 1 \n",
    "\n",
    "t_data"
   ]
  },
  {
   "cell_type": "markdown",
   "metadata": {},
   "source": [
    "<h3>Methods to extract info for Ranking Algo</h3>"
   ]
  },
  {
   "cell_type": "code",
   "execution_count": 18,
   "metadata": {},
   "outputs": [
    {
     "data": {
      "text/plain": [
       "File Name               Jacky-Smith-Resume-Project-Manager.pdf\n",
       "Score        {'Data analytics': 41, 'Project management': 2...\n",
       "Name: 5, dtype: object"
      ]
     },
     "execution_count": 18,
     "metadata": {},
     "output_type": "execute_result"
    }
   ],
   "source": [
    "t_data.loc[5]"
   ]
  },
  {
   "cell_type": "code",
   "execution_count": 19,
   "metadata": {},
   "outputs": [
    {
     "data": {
      "text/plain": [
       "{'Data analytics': 41,\n",
       " 'Project management': 22,\n",
       " 'Supply chain': 9,\n",
       " 'Operations management': 5,\n",
       " 'Special Qualities': 4,\n",
       " 'Healthcare': 4}"
      ]
     },
     "execution_count": 19,
     "metadata": {},
     "output_type": "execute_result"
    }
   ],
   "source": [
    "t_data.loc[5]['Score']"
   ]
  },
  {
   "cell_type": "code",
   "execution_count": 20,
   "metadata": {},
   "outputs": [
    {
     "data": {
      "text/plain": [
       "41"
      ]
     },
     "execution_count": 20,
     "metadata": {},
     "output_type": "execute_result"
    }
   ],
   "source": [
    "t_data.loc[5]['Score']['Data analytics']"
   ]
  },
  {
   "cell_type": "markdown",
   "metadata": {},
   "source": [
    "<h3>Ranking Algorithm</h3>"
   ]
  },
  {
   "cell_type": "code",
   "execution_count": 36,
   "metadata": {},
   "outputs": [
    {
     "name": "stdout",
     "output_type": "stream",
     "text": [
      "Choose most relevant category acc to the Job Profile:\n",
      "\n",
      "1 Special Qualities\n",
      "2 Operations management\n",
      "3 Supply chain\n",
      "4 Project management\n",
      "5 Data analytics\n",
      "6 Healthcare\n",
      "Enter number corresponding to choice: 1\n"
     ]
    }
   ],
   "source": [
    "print(\"Choose most relevant category acc to the Job Profile:\")\n",
    "print()\n",
    "\n",
    "y=1\n",
    "for i in list(terms.keys()):\n",
    "    print(y,i)\n",
    "    y = y +1\n",
    "\n",
    "param = input(\"Enter number corresponding to choice: \")\n",
    "\n",
    "try:\n",
    "    if int(param) == 1:\n",
    "        att = 'Special Qualities'\n",
    "    elif int(param) == 2:\n",
    "        att = 'Operations management'\n",
    "    elif int(param) == 3:\n",
    "        att = 'Supply chain'\n",
    "    elif int(param) == 4:\n",
    "        att = 'Project management'\n",
    "    elif int(param) == 5:\n",
    "        att = 'Data analytics'\n",
    "    elif int(param) == 6:\n",
    "        att = 'Healthcare'\n",
    "    else:\n",
    "        print()\n",
    "        print('******************************')\n",
    "        print(\"Wrong Input\")\n",
    "        att = 'wrong'\n",
    "except:\n",
    "    print(\"Error\")       "
   ]
  },
  {
   "cell_type": "code",
   "execution_count": 37,
   "metadata": {},
   "outputs": [
    {
     "name": "stdout",
     "output_type": "stream",
     "text": [
      "Choose 2nd most relevant category acc to the Job Profile:\n",
      "\n",
      "1 Special Qualities\n",
      "2 Operations management\n",
      "3 Supply chain\n",
      "4 Project management\n",
      "5 Data analytics\n",
      "6 Healthcare\n",
      "Enter number corresponding to choice: 2\n"
     ]
    }
   ],
   "source": [
    "print(\"Choose 2nd most relevant category acc to the Job Profile:\")\n",
    "print()\n",
    "\n",
    "y=1\n",
    "for i in list(terms.keys()):\n",
    "    print(y,i)\n",
    "    y = y +1\n",
    "\n",
    "param = input(\"Enter number corresponding to choice: \")\n",
    "\n",
    "try:\n",
    "    if int(param) == 1:\n",
    "        btt = 'Special Qualities'\n",
    "    elif int(param) == 2:\n",
    "        btt = 'Operations management'\n",
    "    elif int(param) == 3:\n",
    "        btt = 'Supply chain'\n",
    "    elif int(param) == 4:\n",
    "        btt = 'Project management'\n",
    "    elif int(param) == 5:\n",
    "        btt = 'Data analytics'\n",
    "    elif int(param) == 6:\n",
    "        btt = 'Healthcare'\n",
    "    else:\n",
    "        print()\n",
    "        print('******************************')\n",
    "        print(\"Wrong Input\")\n",
    "except:\n",
    "    print(\"Error\")    "
   ]
  },
  {
   "cell_type": "code",
   "execution_count": 38,
   "metadata": {},
   "outputs": [
    {
     "name": "stdout",
     "output_type": "stream",
     "text": [
      "Choose 3rd most relevant category acc to the Job Profile:\n",
      "\n",
      "1 Special Qualities\n",
      "2 Operations management\n",
      "3 Supply chain\n",
      "4 Project management\n",
      "5 Data analytics\n",
      "6 Healthcare\n",
      "Enter number corresponding to choice: 3\n"
     ]
    }
   ],
   "source": [
    "print(\"Choose 3rd most relevant category acc to the Job Profile:\")\n",
    "print()\n",
    "\n",
    "y=1\n",
    "for i in list(terms.keys()):\n",
    "    print(y,i)\n",
    "    y = y +1\n",
    "\n",
    "param = input(\"Enter number corresponding to choice: \")\n",
    "\n",
    "try:\n",
    "    if int(param) == 1:\n",
    "        ctt = 'Special Qualities'\n",
    "    elif int(param) == 2:\n",
    "        ctt = 'Operations management'\n",
    "    elif int(param) == 3:\n",
    "        ctt = 'Supply chain'\n",
    "    elif int(param) == 4:\n",
    "        ctt = 'Project management'\n",
    "    elif int(param) == 5:\n",
    "        ctt = 'Data analytics'\n",
    "    elif int(param) == 6:\n",
    "        ctt = 'Healthcare'\n",
    "    else:\n",
    "        print()\n",
    "        print('******************************')\n",
    "        print(\"Wrong Input\")\n",
    "except:\n",
    "    print(\"Error\")    "
   ]
  },
  {
   "cell_type": "code",
   "execution_count": 41,
   "metadata": {},
   "outputs": [
    {
     "data": {
      "text/plain": [
       "'Supply chain'"
      ]
     },
     "execution_count": 41,
     "metadata": {},
     "output_type": "execute_result"
    }
   ],
   "source": [
    "ctt"
   ]
  },
  {
   "cell_type": "code",
   "execution_count": 42,
   "metadata": {},
   "outputs": [],
   "source": [
    "tdc = t_data.copy()"
   ]
  },
  {
   "cell_type": "code",
   "execution_count": 43,
   "metadata": {},
   "outputs": [],
   "source": [
    "multi = [2,1.5,1.2]\n",
    "for i in range(1,len(tdc['Score'])+1):\n",
    "    a= tdc.loc[i]['Score'][att]\n",
    "    newa= a * multi[0]\n",
    "    b= tdc.loc[i]['Score'][btt]\n",
    "    newb= b * multi[1]\n",
    "    c= tdc.loc[i]['Score'][ctt]\n",
    "    newc= c * multi[2]\n",
    "    atry=tdc.loc[i]['Score']\n",
    "    atry[att] =newa\n",
    "    atry[btt] =newb\n",
    "    atry[ctt] =newc"
   ]
  },
  {
   "cell_type": "code",
   "execution_count": 44,
   "metadata": {},
   "outputs": [
    {
     "data": {
      "text/html": [
       "<div>\n",
       "<style scoped>\n",
       "    .dataframe tbody tr th:only-of-type {\n",
       "        vertical-align: middle;\n",
       "    }\n",
       "\n",
       "    .dataframe tbody tr th {\n",
       "        vertical-align: top;\n",
       "    }\n",
       "\n",
       "    .dataframe thead th {\n",
       "        text-align: right;\n",
       "    }\n",
       "</style>\n",
       "<table border=\"1\" class=\"dataframe\">\n",
       "  <thead>\n",
       "    <tr style=\"text-align: right;\">\n",
       "      <th></th>\n",
       "      <th>File Name</th>\n",
       "      <th>Score</th>\n",
       "      <th>Total</th>\n",
       "    </tr>\n",
       "  </thead>\n",
       "  <tbody>\n",
       "    <tr>\n",
       "      <th>1</th>\n",
       "      <td>Alice Clark CV.pdf</td>\n",
       "      <td>{'Data analytics': 9, 'Project management': 2,...</td>\n",
       "      <td>13.7</td>\n",
       "    </tr>\n",
       "    <tr>\n",
       "      <th>2</th>\n",
       "      <td>AshlyLauResume.pdf</td>\n",
       "      <td>{'Data analytics': 17, 'Project management': 5...</td>\n",
       "      <td>30.1</td>\n",
       "    </tr>\n",
       "    <tr>\n",
       "      <th>3</th>\n",
       "      <td>bhattres.pdf</td>\n",
       "      <td>{'Data analytics': 28, 'Project management': 1...</td>\n",
       "      <td>57.9</td>\n",
       "    </tr>\n",
       "    <tr>\n",
       "      <th>4</th>\n",
       "      <td>chiakang.pdf</td>\n",
       "      <td>{'Data analytics': 39, 'Project management': 1...</td>\n",
       "      <td>76.4</td>\n",
       "    </tr>\n",
       "    <tr>\n",
       "      <th>5</th>\n",
       "      <td>Jacky-Smith-Resume-Project-Manager.pdf</td>\n",
       "      <td>{'Data analytics': 41, 'Project management': 2...</td>\n",
       "      <td>93.3</td>\n",
       "    </tr>\n",
       "    <tr>\n",
       "      <th>6</th>\n",
       "      <td>Smith Resume.pdf</td>\n",
       "      <td>{'Data analytics': 51, 'Project management': 2...</td>\n",
       "      <td>117.6</td>\n",
       "    </tr>\n",
       "    <tr>\n",
       "      <th>7</th>\n",
       "      <td>thomasfrank.pdf</td>\n",
       "      <td>{'Data analytics': 54, 'Project management': 3...</td>\n",
       "      <td>130.6</td>\n",
       "    </tr>\n",
       "    <tr>\n",
       "      <th>8</th>\n",
       "      <td>Xinni_Chng.pdf</td>\n",
       "      <td>{'Data analytics': 57, 'Project management': 3...</td>\n",
       "      <td>140.1</td>\n",
       "    </tr>\n",
       "  </tbody>\n",
       "</table>\n",
       "</div>"
      ],
      "text/plain": [
       "                                File Name  \\\n",
       "1                      Alice Clark CV.pdf   \n",
       "2                      AshlyLauResume.pdf   \n",
       "3                            bhattres.pdf   \n",
       "4                            chiakang.pdf   \n",
       "5  Jacky-Smith-Resume-Project-Manager.pdf   \n",
       "6                        Smith Resume.pdf   \n",
       "7                         thomasfrank.pdf   \n",
       "8                          Xinni_Chng.pdf   \n",
       "\n",
       "                                               Score  Total  \n",
       "1  {'Data analytics': 9, 'Project management': 2,...   13.7  \n",
       "2  {'Data analytics': 17, 'Project management': 5...   30.1  \n",
       "3  {'Data analytics': 28, 'Project management': 1...   57.9  \n",
       "4  {'Data analytics': 39, 'Project management': 1...   76.4  \n",
       "5  {'Data analytics': 41, 'Project management': 2...   93.3  \n",
       "6  {'Data analytics': 51, 'Project management': 2...  117.6  \n",
       "7  {'Data analytics': 54, 'Project management': 3...  130.6  \n",
       "8  {'Data analytics': 57, 'Project management': 3...  140.1  "
      ]
     },
     "execution_count": 44,
     "metadata": {},
     "output_type": "execute_result"
    }
   ],
   "source": [
    "total = 0\n",
    "total_list =[]\n",
    "for j in range(1,len(tdc['Score'])+1):\n",
    "    a= tdc.loc[j]['Score']\n",
    "    for k in list(a.values()):\n",
    "        total = total + k\n",
    "    #print(j,total)\n",
    "    total_list.append(total)\n",
    "    total =0\n",
    "    \n",
    "tdc['Total'] = total_list\n",
    "tdc"
   ]
  },
  {
   "cell_type": "code",
   "execution_count": 45,
   "metadata": {},
   "outputs": [
    {
     "data": {
      "text/html": [
       "<div>\n",
       "<style scoped>\n",
       "    .dataframe tbody tr th:only-of-type {\n",
       "        vertical-align: middle;\n",
       "    }\n",
       "\n",
       "    .dataframe tbody tr th {\n",
       "        vertical-align: top;\n",
       "    }\n",
       "\n",
       "    .dataframe thead th {\n",
       "        text-align: right;\n",
       "    }\n",
       "</style>\n",
       "<table border=\"1\" class=\"dataframe\">\n",
       "  <thead>\n",
       "    <tr style=\"text-align: right;\">\n",
       "      <th></th>\n",
       "      <th>File Name</th>\n",
       "      <th>Score</th>\n",
       "      <th>Total</th>\n",
       "    </tr>\n",
       "  </thead>\n",
       "  <tbody>\n",
       "    <tr>\n",
       "      <th>8</th>\n",
       "      <td>Xinni_Chng.pdf</td>\n",
       "      <td>{'Data analytics': 57, 'Project management': 3...</td>\n",
       "      <td>140.1</td>\n",
       "    </tr>\n",
       "    <tr>\n",
       "      <th>7</th>\n",
       "      <td>thomasfrank.pdf</td>\n",
       "      <td>{'Data analytics': 54, 'Project management': 3...</td>\n",
       "      <td>130.6</td>\n",
       "    </tr>\n",
       "    <tr>\n",
       "      <th>6</th>\n",
       "      <td>Smith Resume.pdf</td>\n",
       "      <td>{'Data analytics': 51, 'Project management': 2...</td>\n",
       "      <td>117.6</td>\n",
       "    </tr>\n",
       "    <tr>\n",
       "      <th>5</th>\n",
       "      <td>Jacky-Smith-Resume-Project-Manager.pdf</td>\n",
       "      <td>{'Data analytics': 41, 'Project management': 2...</td>\n",
       "      <td>93.3</td>\n",
       "    </tr>\n",
       "    <tr>\n",
       "      <th>4</th>\n",
       "      <td>chiakang.pdf</td>\n",
       "      <td>{'Data analytics': 39, 'Project management': 1...</td>\n",
       "      <td>76.4</td>\n",
       "    </tr>\n",
       "    <tr>\n",
       "      <th>3</th>\n",
       "      <td>bhattres.pdf</td>\n",
       "      <td>{'Data analytics': 28, 'Project management': 1...</td>\n",
       "      <td>57.9</td>\n",
       "    </tr>\n",
       "    <tr>\n",
       "      <th>2</th>\n",
       "      <td>AshlyLauResume.pdf</td>\n",
       "      <td>{'Data analytics': 17, 'Project management': 5...</td>\n",
       "      <td>30.1</td>\n",
       "    </tr>\n",
       "    <tr>\n",
       "      <th>1</th>\n",
       "      <td>Alice Clark CV.pdf</td>\n",
       "      <td>{'Data analytics': 9, 'Project management': 2,...</td>\n",
       "      <td>13.7</td>\n",
       "    </tr>\n",
       "  </tbody>\n",
       "</table>\n",
       "</div>"
      ],
      "text/plain": [
       "                                File Name  \\\n",
       "8                          Xinni_Chng.pdf   \n",
       "7                         thomasfrank.pdf   \n",
       "6                        Smith Resume.pdf   \n",
       "5  Jacky-Smith-Resume-Project-Manager.pdf   \n",
       "4                            chiakang.pdf   \n",
       "3                            bhattres.pdf   \n",
       "2                      AshlyLauResume.pdf   \n",
       "1                      Alice Clark CV.pdf   \n",
       "\n",
       "                                               Score  Total  \n",
       "8  {'Data analytics': 57, 'Project management': 3...  140.1  \n",
       "7  {'Data analytics': 54, 'Project management': 3...  130.6  \n",
       "6  {'Data analytics': 51, 'Project management': 2...  117.6  \n",
       "5  {'Data analytics': 41, 'Project management': 2...   93.3  \n",
       "4  {'Data analytics': 39, 'Project management': 1...   76.4  \n",
       "3  {'Data analytics': 28, 'Project management': 1...   57.9  \n",
       "2  {'Data analytics': 17, 'Project management': 5...   30.1  \n",
       "1  {'Data analytics': 9, 'Project management': 2,...   13.7  "
      ]
     },
     "execution_count": 45,
     "metadata": {},
     "output_type": "execute_result"
    }
   ],
   "source": [
    "tdc.sort_values(by=['Total'],ascending =False)"
   ]
  },
  {
   "cell_type": "markdown",
   "metadata": {},
   "source": [
    "<h3>Displaying the results</h3>"
   ]
  },
  {
   "cell_type": "code",
   "execution_count": 46,
   "metadata": {},
   "outputs": [
    {
     "data": {
      "text/html": [
       "<div>\n",
       "<style scoped>\n",
       "    .dataframe tbody tr th:only-of-type {\n",
       "        vertical-align: middle;\n",
       "    }\n",
       "\n",
       "    .dataframe tbody tr th {\n",
       "        vertical-align: top;\n",
       "    }\n",
       "\n",
       "    .dataframe thead th {\n",
       "        text-align: right;\n",
       "    }\n",
       "</style>\n",
       "<table border=\"1\" class=\"dataframe\">\n",
       "  <thead>\n",
       "    <tr style=\"text-align: right;\">\n",
       "      <th></th>\n",
       "      <th>File Name</th>\n",
       "      <th>Score</th>\n",
       "      <th>Total</th>\n",
       "    </tr>\n",
       "  </thead>\n",
       "  <tbody>\n",
       "    <tr>\n",
       "      <th>8</th>\n",
       "      <td>Xinni_Chng.pdf</td>\n",
       "      <td>{'Data analytics': 57, 'Project management': 3...</td>\n",
       "      <td>140.1</td>\n",
       "    </tr>\n",
       "    <tr>\n",
       "      <th>7</th>\n",
       "      <td>thomasfrank.pdf</td>\n",
       "      <td>{'Data analytics': 54, 'Project management': 3...</td>\n",
       "      <td>130.6</td>\n",
       "    </tr>\n",
       "    <tr>\n",
       "      <th>6</th>\n",
       "      <td>Smith Resume.pdf</td>\n",
       "      <td>{'Data analytics': 51, 'Project management': 2...</td>\n",
       "      <td>117.6</td>\n",
       "    </tr>\n",
       "  </tbody>\n",
       "</table>\n",
       "</div>"
      ],
      "text/plain": [
       "          File Name                                              Score  Total\n",
       "8    Xinni_Chng.pdf  {'Data analytics': 57, 'Project management': 3...  140.1\n",
       "7   thomasfrank.pdf  {'Data analytics': 54, 'Project management': 3...  130.6\n",
       "6  Smith Resume.pdf  {'Data analytics': 51, 'Project management': 2...  117.6"
      ]
     },
     "execution_count": 46,
     "metadata": {},
     "output_type": "execute_result"
    }
   ],
   "source": [
    "tdc.sort_values(by=['Total'],ascending =False)[:3]"
   ]
  },
  {
   "cell_type": "code",
   "execution_count": null,
   "metadata": {},
   "outputs": [],
   "source": []
  }
 ],
 "metadata": {
  "kernelspec": {
   "display_name": "Python 3",
   "language": "python",
   "name": "python3"
  },
  "language_info": {
   "codemirror_mode": {
    "name": "ipython",
    "version": 3
   },
   "file_extension": ".py",
   "mimetype": "text/x-python",
   "name": "python",
   "nbconvert_exporter": "python",
   "pygments_lexer": "ipython3",
   "version": "3.8.5"
  }
 },
 "nbformat": 4,
 "nbformat_minor": 5
}
